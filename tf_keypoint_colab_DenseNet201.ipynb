{
  "cells": [
    {
      "cell_type": "markdown",
      "metadata": {
        "id": "view-in-github",
        "colab_type": "text"
      },
      "source": [
        "<a href=\"https://colab.research.google.com/github/gibsonx/tf_skeleton/blob/master/tf_keypoint_colab_DenseNet201.ipynb\" target=\"_parent\"><img src=\"https://colab.research.google.com/assets/colab-badge.svg\" alt=\"Open In Colab\"/></a>"
      ]
    },
    {
      "cell_type": "code",
      "source": [
        "from google.colab import drive\n",
        "drive.mount('/content/drive')"
      ],
      "metadata": {
        "id": "bVmURZAl5rq0",
        "pycharm": {
          "name": "#%%\n"
        },
        "outputId": "bfce1f5f-81f8-4e6e-e7b0-c738f6700e61",
        "colab": {
          "base_uri": "https://localhost:8080/"
        }
      },
      "execution_count": 1,
      "outputs": [
        {
          "output_type": "stream",
          "name": "stdout",
          "text": [
            "Mounted at /content/drive\n"
          ]
        }
      ]
    },
    {
      "cell_type": "code",
      "source": [
        "#!git clone https://github.com/gibsonx/tf_skeleton.git"
      ],
      "metadata": {
        "id": "ilMaJumK4NYw",
        "pycharm": {
          "name": "#%%\n"
        }
      },
      "execution_count": 2,
      "outputs": []
    },
    {
      "cell_type": "code",
      "source": [
        "#!pip install -r /content/tf_skeleton/requirements.txt > /dev/null"
      ],
      "metadata": {
        "id": "OXB6FMV55aDu",
        "pycharm": {
          "name": "#%%\n"
        }
      },
      "execution_count": 3,
      "outputs": []
    },
    {
      "cell_type": "code",
      "execution_count": 4,
      "metadata": {
        "jupyter": {
          "outputs_hidden": false
        },
        "pycharm": {
          "is_executing": true,
          "name": "#%%\n"
        },
        "id": "Ml1hZoUn4BOo"
      },
      "outputs": [],
      "source": [
        "from pycocotools.coco import COCO\n",
        "import numpy as np\n",
        "import os.path\n",
        "from typing import Any, Callable, List, Optional, Tuple\n",
        "from PIL import Image\n",
        "import matplotlib\n",
        "import matplotlib.pyplot as plt\n",
        "import matplotlib.image as mpimg\n",
        "import os, json, cv2, numpy as np\n",
        "import matplotlib.pyplot as plt\n",
        "import pandas as pd\n",
        "import numpy as np\n",
        "np.bool = np.bool_\n",
        "import matplotlib.pyplot as plt\n",
        "import keras\n",
        "\n",
        "import tensorflow as tf\n",
        "\n",
        "from keras.models import Sequential,Model\n",
        "\n",
        "from keras.layers import (\n",
        "    Flatten,\n",
        "    Dense,\n",
        "    Dropout,\n",
        "    Conv2D,\n",
        "    LeakyReLU,\n",
        "    BatchNormalization,\n",
        "    MaxPool2D,\n",
        "    GlobalAveragePooling2D,\n",
        ")\n",
        "from imgaug import augmenters as iaa\n",
        "import imgaug as ia\n",
        "import imageio\n",
        "from keras.applications import ResNet50\n",
        "from keras.applications.densenet import DenseNet121,DenseNet169,DenseNet201\n",
        "from imgaug.augmentables.kps import Keypoint, KeypointsOnImage\n",
        "import math"
      ]
    },
    {
      "cell_type": "code",
      "execution_count": 147,
      "metadata": {
        "jupyter": {
          "outputs_hidden": false
        },
        "pycharm": {
          "is_executing": true,
          "name": "#%%\n"
        },
        "id": "bV-AwtlZ4BOq"
      },
      "outputs": [],
      "source": [
        "train_img_dir=\"/content/drive/MyDrive/Dataset/aspine202030604/images\"\n",
        "train_annotations_file=\"/content/drive/MyDrive/Dataset/aspine202030604/annotations/person_keypoints_Train.json\"\n",
        "\n",
        "val_img_dir=\"/content/drive/MyDrive/Dataset/aspine20230930/image_val\"\n",
        "val_annotations_file=\"/content/drive/MyDrive/Dataset/aspine20230930/annotations/person_keypoints_Validation.json\"\n"
      ]
    },
    {
      "cell_type": "code",
      "source": [
        "class DataframeMaker():\n",
        "\n",
        "  def __init__(self,img_path,annotations_file, img_height, img_width):\n",
        "      self.img_path = img_path\n",
        "      self.coco = COCO(annotations_file)\n",
        "      self.imgIds = self.coco.getImgIds()\n",
        "      self.dataframe = None\n",
        "      self.__coco_build__()\n",
        "      self.img_height = img_height\n",
        "      self.img_width = img_width\n",
        "      if self.img_width and self.img_height:\n",
        "          self.resize_dataset()\n",
        "          print (\"image size has been set to %d x %d\" % (self.img_height, self.img_width))\n",
        "      else:\n",
        "          print (\"image keeps as original size\")\n",
        "\n",
        "  def __coco_build__(self):\n",
        "      \"\"\"\n",
        "      read annotation and build dataframe\n",
        "      :return:\n",
        "      \"\"\"\n",
        "      kps_metrix = []\n",
        "\n",
        "      for id in self.imgIds:\n",
        "\n",
        "        # load a image\n",
        "        img = self.coco.loadImgs(id)[0]\n",
        "        imgPath = img['file_name']\n",
        "\n",
        "        ann=self.coco.loadAnns(self.coco.getAnnIds(imgIds=img['id']))\n",
        "\n",
        "        keypoints_original = [[list(a) for a in zip(*[iter(ann[0]['keypoints'])]*3)]]\n",
        "\n",
        "        kps_row = []\n",
        "        for kp in keypoints_original:\n",
        "            for el in kp:\n",
        "                kps_row.extend(el[0:2])\n",
        "        kps_row.append(imgPath)\n",
        "\n",
        "        kps_metrix.append(kps_row)\n",
        "\n",
        "      df = pd.DataFrame(kps_metrix)\n",
        "\n",
        "      self.dataframe = df\n",
        "\n",
        "  def resize_dataset(self):\n",
        "    \"\"\"\n",
        "    :param img_height:\n",
        "    :param img_width:\n",
        "    :return:\n",
        "    \"\"\"\n",
        "    ts_kps_metrix = []\n",
        "    ts_image_list = []\n",
        "\n",
        "    for index, row in self.dataframe.iterrows():\n",
        "\n",
        "\n",
        "      image = row[-1:].item()\n",
        "      fullImgPath = os.path.join(self.img_path,image)\n",
        "      open_cv_image = np.array(Image.open(fullImgPath).convert('RGB'))\n",
        "      # print(\"shpae:\",open_cv_image.shape)\n",
        "\n",
        "      annotations = row[:32]\n",
        "      converted_keypoints = [list(a) for a in zip(*[iter(annotations)]*2)]\n",
        "\n",
        "      kps = [Keypoint(x=coodination[0], y=coodination[1]) for coodination in converted_keypoints]\n",
        "      kpsoi = KeypointsOnImage(kps, shape=open_cv_image.shape)\n",
        "\n",
        "      ia.seed(1)\n",
        "\n",
        "      seq = iaa.Sequential([\n",
        "          iaa.Crop(px=(32, 32, 32, 32)),\n",
        "          iaa.Resize({\"height\": self.img_height , \"width\": self.img_width}),\n",
        "      ])\n",
        "\n",
        "      image_aug, kpsoi_aug = seq(image=open_cv_image, keypoints=kpsoi)\n",
        "\n",
        "      ts_kps_row = []\n",
        "\n",
        "      image_height, image_width = image_aug.shape[:2]\n",
        "\n",
        "      for i in range(len(kpsoi_aug.keypoints)):\n",
        "          after = kpsoi_aug.keypoints[i]\n",
        "          x = max(0, min(after.x, image_width - 1))  # Clamp x between 0 and image_width - 1\n",
        "          y = max(0, min(after.y, image_height - 1))  # Clamp y between 0 and image_height - 1\n",
        "          ts_kps_row.extend([x, y])\n",
        "\n",
        "      ts_kps_metrix.append(ts_kps_row)\n",
        "      ts_image_list.append(image_aug)\n",
        "\n",
        "    df = pd.DataFrame(ts_kps_metrix)\n",
        "\n",
        "    df['image'] = ts_image_list\n",
        "\n",
        "    self.dataframe = df\n",
        "\n",
        "class DataGenerator(tf.keras.utils.Sequence):\n",
        "\n",
        "  def __init__(self, dataframe, batch_size, arguement = False):\n",
        "      self.df = dataframe\n",
        "      self.batch_size = batch_size\n",
        "      self.argument = arguement\n",
        "\n",
        "  def __len__(self):\n",
        "      return math.ceil(len(self.df) / self.batch_size)\n",
        "\n",
        "  def __getitem__(self, idx):\n",
        "      low = idx * self.batch_size\n",
        "      # Cap upper bound at array length; the last batch may be smaller\n",
        "      # if the total number of items is not a multiple of batch size.\n",
        "      high = min(low + self.batch_size, len(self.df))\n",
        "      images = self.df.loc[low:high,'image']\n",
        "      annotations = self.df.loc[low:high,:31]\n",
        "\n",
        "      if self.argument:\n",
        "          return self.data_arguement(images,annotations)\n",
        "      else:\n",
        "          return np.stack(images), annotations.to_numpy()\n",
        "\n",
        "  def on_epoch_end(self):\n",
        "      print(\"shuffle\")\n",
        "      self.df = self.df.sample(frac=1, random_state=41).reset_index(drop=True)\n",
        "\n",
        "  def data_arguement(self, images, annotations):\n",
        "\n",
        "      ia.seed(3)\n",
        "      seq = iaa.Sequential([\n",
        "            iaa.Sometimes(\n",
        "              0.5,\n",
        "              iaa.SomeOf((1, 3), [\n",
        "              iaa.Affine(\n",
        "                  rotate=(-8,8)\n",
        "                  ),\n",
        "              iaa.LinearContrast((0.4, 1.2)),\n",
        "              iaa.AdditiveGaussianNoise(loc=0, scale=(0.0, 0.05*255), per_channel=0.5),\n",
        "              ])\n",
        "            )\n",
        "          ])\n",
        "\n",
        "      images_aug, points_aug = seq(images=images, keypoints=self.kpslist_to_tuple(annotations))\n",
        "      kps_list = self.kpstuple_to_list(points_aug)\n",
        "\n",
        "      return np.stack(images_aug), np.stack(kps_list)\n",
        "\n",
        "  def kpslist_to_tuple(self,annotations):\n",
        "      kpstuple = []\n",
        "\n",
        "      for index, row in annotations.iterrows():\n",
        "          converted_keypoints = [list(a) for a in zip(*[iter(row)]*2)]\n",
        "          kps = [Keypoint(x=coodination[0], y=coodination[1]) for coodination in converted_keypoints]\n",
        "          kpstuple.append(kps)\n",
        "\n",
        "      return kpstuple\n",
        "\n",
        "  def kpstuple_to_list(self,kps_tuple):\n",
        "      kpslist = []\n",
        "\n",
        "      for kpsoi in kps_tuple:\n",
        "          ts_kps_row = []\n",
        "          for i in range(len(kpsoi)):\n",
        "              # print(kpsoi_aug[i].is_out_of_image(image=images_aug[i]))\n",
        "              ts_kps_row.extend([kpsoi[i].x,kpsoi[i].y])\n",
        "          kpslist.append(ts_kps_row)\n",
        "\n",
        "      return kpslist"
      ],
      "metadata": {
        "id": "wSBjc8Ob875C"
      },
      "execution_count": 226,
      "outputs": []
    },
    {
      "cell_type": "code",
      "source": [
        "height = 500\n",
        "width = 280\n",
        "\n",
        "val_df = DataframeMaker(val_img_dir,val_annotations_file,height,width)\n",
        "train_df = DataframeMaker(train_img_dir,train_annotations_file,height,width)"
      ],
      "metadata": {
        "colab": {
          "base_uri": "https://localhost:8080/"
        },
        "id": "VAdnr3br9A-0",
        "outputId": "d6cdad4d-5a5e-470d-e253-cba788ee4158"
      },
      "execution_count": 227,
      "outputs": [
        {
          "output_type": "stream",
          "name": "stdout",
          "text": [
            "loading annotations into memory...\n",
            "Done (t=0.00s)\n",
            "creating index...\n",
            "index created!\n",
            "image size has been set to 500 x 280\n",
            "loading annotations into memory...\n",
            "Done (t=0.00s)\n",
            "creating index...\n",
            "index created!\n",
            "image size has been set to 500 x 280\n"
          ]
        }
      ]
    },
    {
      "cell_type": "code",
      "source": [
        "batch_size=48\n",
        "\n",
        "val_generator = DataGenerator(val_df.dataframe,batch_size,False)\n",
        "train_generator = DataGenerator(train_df.dataframe,batch_size,True)"
      ],
      "metadata": {
        "id": "nDbRDX1gLeBv"
      },
      "execution_count": 228,
      "outputs": []
    },
    {
      "cell_type": "code",
      "source": [
        "def show_image(image, kps, image_path):\n",
        "\n",
        "    fullImgPath = os.path.join(image_path,image)\n",
        "    open_cv_image = np.array(Image.open(fullImgPath))\n",
        "    converted_keypoints = [list(a) for a in zip(*[iter(kps)]*2)]\n",
        "\n",
        "    kps = [Keypoint(x=coodination[0], y=coodination[1]) for coodination in converted_keypoints]\n",
        "\n",
        "    kpsoi = KeypointsOnImage(kps, shape=open_cv_image.shape)\n",
        "\n",
        "    image_with_kps = kpsoi.draw_on_image(open_cv_image, size=15)\n",
        "\n",
        "    plt.imshow(image_with_kps)\n",
        "\n",
        "def show_tran_image(image, kps):\n",
        "\n",
        "    open_cv_image = np.array(image)\n",
        "\n",
        "    converted_keypoints = [list(a) for a in zip(*[iter(kps)]*2)]\n",
        "\n",
        "    kps = [Keypoint(x=coodination[0], y=coodination[1]) for coodination in converted_keypoints]\n",
        "\n",
        "    kpsoi = KeypointsOnImage(kps, shape=open_cv_image.shape)\n",
        "\n",
        "    image_with_kps = kpsoi.draw_on_image(open_cv_image, size=5)\n",
        "\n",
        "    plt.imshow(image_with_kps)"
      ],
      "metadata": {
        "id": "ZQHe4NHD9vvT"
      },
      "execution_count": 229,
      "outputs": []
    },
    {
      "cell_type": "markdown",
      "source": [
        "Visualize a simple image"
      ],
      "metadata": {
        "id": "WlVCyOIzcdDb"
      }
    },
    {
      "cell_type": "markdown",
      "source": [
        "Validation Dataset Sample"
      ],
      "metadata": {
        "id": "EI4Rmx1lMr4Y"
      }
    },
    {
      "cell_type": "code",
      "source": [
        "rand_number = np.random.randint(0,len(val_df.dataframe))\n",
        "X, Y = val_df.dataframe.loc[rand_number][-1:].item(),val_df.dataframe.loc[rand_number][0:32],\n",
        "show_tran_image(X, Y)"
      ],
      "metadata": {
        "colab": {
          "base_uri": "https://localhost:8080/",
          "height": 435
        },
        "id": "GaIn7RX29mne",
        "outputId": "890ba3a7-91ad-4c1b-b607-0bd5671168e5"
      },
      "execution_count": 230,
      "outputs": [
        {
          "output_type": "display_data",
          "data": {
            "text/plain": [
              "<Figure size 640x480 with 1 Axes>"
            ],
            "image/png": "[encoded data removed]"
          },
          "metadata": {}
        }
      ]
    },
    {
      "cell_type": "markdown",
      "source": [
        "Train Dataset Sample"
      ],
      "metadata": {
        "id": "gyHrLMIzMwW4"
      }
    },
    {
      "cell_type": "code",
      "source": [
        "# X_batch, y_batch= train_generator.__iter__()\n",
        "# X_batch, y_batch= next(train_generator.__iter__())\n",
        "# X_batch, y_batch= next(train_generator.__iter__())\n",
        "# X_batch, y_batch= next(train_generator.__iter__())"
      ],
      "metadata": {
        "id": "f_Rrb4NImMEB"
      },
      "execution_count": 231,
      "outputs": []
    },
    {
      "cell_type": "code",
      "source": [
        "# rand_number = np.random.randint(0,len(X_batch))\n",
        "# X, Y = X_batch[rand_number],y_batch[rand_number][:32],\n",
        "# show_tran_image(X, Y)"
      ],
      "metadata": {
        "id": "odMYDoomdQZT"
      },
      "execution_count": 237,
      "outputs": []
    },
    {
      "cell_type": "markdown",
      "source": [
        "Build Model"
      ],
      "metadata": {
        "id": "soB3_62HULaW"
      }
    },
    {
      "cell_type": "code",
      "source": [
        "model = tf.keras.models.Sequential()\n",
        "pretrained_model = DenseNet201(input_shape=(height,width,3),include_top=False)\n",
        "pretrained_model.trainable = True\n",
        "\n",
        "model.add(pretrained_model)\n",
        "model.add(Flatten())\n",
        "model.add(Dense(1024, activation='relu'))  #increase the number of neurons\n",
        "model.add(Dropout(0.2))\n",
        "model.add(Dense(512, activation='relu'))  #increase the number of neurons\n",
        "model.add(Dropout(0.2))\n",
        "model.add(Dense(32))  # Yet another dense layer\n"
      ],
      "metadata": {
        "id": "3DZpa19ipRkZ"
      },
      "execution_count": 246,
      "outputs": []
    },
    {
      "cell_type": "code",
      "source": [
        "# tf.keras.utils.plot_model(model, show_shapes=True)"
      ],
      "metadata": {
        "id": "8fSo0P7ppbHI"
      },
      "execution_count": 236,
      "outputs": []
    },
    {
      "cell_type": "code",
      "source": [
        "Adam=tf.keras.optimizers.Adam(learning_rate=1e-6)\n",
        "\n",
        "model.compile(optimizer=Adam,loss='mean_squared_error',metrics=['mae'])"
      ],
      "metadata": {
        "id": "8f8xHPW9pcqH"
      },
      "execution_count": 248,
      "outputs": []
    },
    {
      "cell_type": "code",
      "source": [
        "epoch_num = 500\n",
        "\n",
        "checkpoint_path = \"/content/drive/MyDrive/Dataset/aspine20241119.weights.h5\"\n",
        "checkpoint_dir = os.path.dirname(checkpoint_path)\n",
        "\n",
        "# model = keras.models.load_model(\"/mnt/densenet201.h5\")\n",
        "\n",
        "# callback that saves the model's weights\n",
        "cp_callback = tf.keras.callbacks.ModelCheckpoint(filepath=checkpoint_path,\n",
        "                          save_best_only=True,\n",
        "                          save_freq='epoch',\n",
        "                          save_weights_only=True,\n",
        "                          verbose=1)\n",
        "\n",
        "# callback that reduces learning rate when val_loss doesn't improve in 5 epoches\n",
        "# reduce_lr_callback = tf.keras.callbacks.ReduceLROnPlateau(monitor='val_loss', mode='min', factor=0.2, patience=3, min_lr=0.01)\n",
        "\n",
        "history = model.fit(train_generator,\n",
        "                    validation_data=val_generator,\n",
        "                    epochs=epoch_num,\n",
        "                    callbacks=[cp_callback,])\n"
      ],
      "metadata": {
        "colab": {
          "base_uri": "https://localhost:8080/",
          "height": 584
        },
        "id": "JId2pxOfphb7",
        "outputId": "52b995ed-3cb5-4d71-99d8-bb88a2c8abec"
      },
      "execution_count": 249,
      "outputs": [
        {
          "output_type": "stream",
          "name": "stdout",
          "text": [
            "Epoch 1/500\n"
          ]
        },
        {
          "output_type": "stream",
          "name": "stderr",
          "text": [
            "/usr/local/lib/python3.10/dist-packages/keras/src/trainers/data_adapters/py_dataset_adapter.py:121: UserWarning: Your `PyDataset` class should call `super().__init__(**kwargs)` in its constructor. `**kwargs` can include `workers`, `use_multiprocessing`, `max_queue_size`. Do not pass these arguments to `fit()`, as they will be ignored.\n",
            "  self._warn_if_super_not_called()\n"
          ]
        },
        {
          "output_type": "error",
          "ename": "FailedPreconditionError",
          "evalue": "Graph execution error:\n\nDetected at node sequential_3_1/dense_10_1/Add/ReadVariableOp defined at (most recent call last):\n<stack traces unavailable>\nRead variable failure sequential_3/dense_10/bias/4036. It could mean the variable is uninitialized or the variable is on another device \n\t [[{{node sequential_3_1/dense_10_1/Add/ReadVariableOp}}]]\n\ttf2xla conversion failed while converting __inference_one_step_on_data_164757[]. Run with TF_DUMP_GRAPH_PREFIX=/path/to/dump/dir and --vmodule=xla_compiler=2 to obtain a dump of the compiled functions.\n\t [[StatefulPartitionedCall]] [Op:__inference_one_step_on_iterator_169230]",
          "traceback": [
            "\u001b[0;31m---------------------------------------------------------------------------\u001b[0m",
            "\u001b[0;31mFailedPreconditionError\u001b[0m                   Traceback (most recent call last)",
            "\u001b[0;32m<ipython-input-249-3294eedfe29a>\u001b[0m in \u001b[0;36m<cell line: 18>\u001b[0;34m()\u001b[0m\n\u001b[1;32m     16\u001b[0m \u001b[0;31m# reduce_lr_callback = tf.keras.callbacks.ReduceLROnPlateau(monitor='val_loss', mode='min', factor=0.2, patience=3, min_lr=0.01)\u001b[0m\u001b[0;34m\u001b[0m\u001b[0;34m\u001b[0m\u001b[0m\n\u001b[1;32m     17\u001b[0m \u001b[0;34m\u001b[0m\u001b[0m\n\u001b[0;32m---> 18\u001b[0;31m history = model.fit(train_generator,\n\u001b[0m\u001b[1;32m     19\u001b[0m                     \u001b[0mvalidation_data\u001b[0m\u001b[0;34m=\u001b[0m\u001b[0mval_generator\u001b[0m\u001b[0;34m,\u001b[0m\u001b[0;34m\u001b[0m\u001b[0;34m\u001b[0m\u001b[0m\n\u001b[1;32m     20\u001b[0m                     \u001b[0mepochs\u001b[0m\u001b[0;34m=\u001b[0m\u001b[0mepoch_num\u001b[0m\u001b[0;34m,\u001b[0m\u001b[0;34m\u001b[0m\u001b[0;34m\u001b[0m\u001b[0m\n",
            "\u001b[0;32m/usr/local/lib/python3.10/dist-packages/keras/src/utils/traceback_utils.py\u001b[0m in \u001b[0;36merror_handler\u001b[0;34m(*args, **kwargs)\u001b[0m\n\u001b[1;32m    120\u001b[0m             \u001b[0;31m# To get the full stack trace, call:\u001b[0m\u001b[0;34m\u001b[0m\u001b[0;34m\u001b[0m\u001b[0m\n\u001b[1;32m    121\u001b[0m             \u001b[0;31m# `keras.config.disable_traceback_filtering()`\u001b[0m\u001b[0;34m\u001b[0m\u001b[0;34m\u001b[0m\u001b[0m\n\u001b[0;32m--> 122\u001b[0;31m             \u001b[0;32mraise\u001b[0m \u001b[0me\u001b[0m\u001b[0;34m.\u001b[0m\u001b[0mwith_traceback\u001b[0m\u001b[0;34m(\u001b[0m\u001b[0mfiltered_tb\u001b[0m\u001b[0;34m)\u001b[0m \u001b[0;32mfrom\u001b[0m \u001b[0;32mNone\u001b[0m\u001b[0;34m\u001b[0m\u001b[0;34m\u001b[0m\u001b[0m\n\u001b[0m\u001b[1;32m    123\u001b[0m         \u001b[0;32mfinally\u001b[0m\u001b[0;34m:\u001b[0m\u001b[0;34m\u001b[0m\u001b[0;34m\u001b[0m\u001b[0m\n\u001b[1;32m    124\u001b[0m             \u001b[0;32mdel\u001b[0m \u001b[0mfiltered_tb\u001b[0m\u001b[0;34m\u001b[0m\u001b[0;34m\u001b[0m\u001b[0m\n",
            "\u001b[0;32m/usr/local/lib/python3.10/dist-packages/tensorflow/python/eager/execute.py\u001b[0m in \u001b[0;36mquick_execute\u001b[0;34m(op_name, num_outputs, inputs, attrs, ctx, name)\u001b[0m\n\u001b[1;32m     51\u001b[0m   \u001b[0;32mtry\u001b[0m\u001b[0;34m:\u001b[0m\u001b[0;34m\u001b[0m\u001b[0;34m\u001b[0m\u001b[0m\n\u001b[1;32m     52\u001b[0m     \u001b[0mctx\u001b[0m\u001b[0;34m.\u001b[0m\u001b[0mensure_initialized\u001b[0m\u001b[0;34m(\u001b[0m\u001b[0;34m)\u001b[0m\u001b[0;34m\u001b[0m\u001b[0;34m\u001b[0m\u001b[0m\n\u001b[0;32m---> 53\u001b[0;31m     tensors = pywrap_tfe.TFE_Py_Execute(ctx._handle, device_name, op_name,\n\u001b[0m\u001b[1;32m     54\u001b[0m                                         inputs, attrs, num_outputs)\n\u001b[1;32m     55\u001b[0m   \u001b[0;32mexcept\u001b[0m \u001b[0mcore\u001b[0m\u001b[0;34m.\u001b[0m\u001b[0m_NotOkStatusException\u001b[0m \u001b[0;32mas\u001b[0m \u001b[0me\u001b[0m\u001b[0;34m:\u001b[0m\u001b[0;34m\u001b[0m\u001b[0;34m\u001b[0m\u001b[0m\n",
            "\u001b[0;31mFailedPreconditionError\u001b[0m: Graph execution error:\n\nDetected at node sequential_3_1/dense_10_1/Add/ReadVariableOp defined at (most recent call last):\n<stack traces unavailable>\nRead variable failure sequential_3/dense_10/bias/4036. It could mean the variable is uninitialized or the variable is on another device \n\t [[{{node sequential_3_1/dense_10_1/Add/ReadVariableOp}}]]\n\ttf2xla conversion failed while converting __inference_one_step_on_data_164757[]. Run with TF_DUMP_GRAPH_PREFIX=/path/to/dump/dir and --vmodule=xla_compiler=2 to obtain a dump of the compiled functions.\n\t [[StatefulPartitionedCall]] [Op:__inference_one_step_on_iterator_169230]"
          ]
        }
      ]
    },
    {
      "cell_type": "code",
      "source": [
        "mae = history.history['mae']\n",
        "val_mae = history.history['val_mae']\n",
        "loss = history.history['loss']\n",
        "val_loss = history.history['val_loss']\n",
        "\n",
        "epochs = range(1, len(mae) + 1)\n",
        "\n",
        "plt.plot(epochs, mae, label='Training mae')\n",
        "plt.plot(epochs, val_mae, label='Validation mae')\n",
        "plt.title('Training and validation mae')\n",
        "plt.legend()\n",
        "\n",
        "plt.figure()\n",
        "\n",
        "plt.plot(epochs, loss, 'bo', label='Training loss')\n",
        "plt.plot(epochs, val_loss, 'b', label='Validation loss')\n",
        "plt.title('Training and validation loss')\n",
        "plt.legend()\n",
        "\n",
        "plt.show()"
      ],
      "metadata": {
        "id": "vq6_CEiOexHF"
      },
      "execution_count": null,
      "outputs": []
    },
    {
      "cell_type": "code",
      "source": [
        "X_test, y_test= next(val_generator.__iter__())\n",
        "\n",
        "predictions = model.predict(X_test)"
      ],
      "metadata": {
        "id": "FfCFjJTH9mRq"
      },
      "execution_count": null,
      "outputs": []
    },
    {
      "cell_type": "code",
      "source": [
        "index = np.random.randint(0,len(X_test))\n",
        "#X, Y = X_test[index], predictions[index]\n",
        "X, Y = X_test[index], predictions[index,:32]\n",
        "show_tran_image(X,Y)"
      ],
      "metadata": {
        "id": "HPGI5fVVQ8kd"
      },
      "execution_count": null,
      "outputs": []
    },
    {
      "cell_type": "code",
      "source": [
        "model.save(\"/content/drive/MyDrive/Dataset/densenet201.h5\")\n",
        "model.save(\"/mnt/densenet201.h5\")"
      ],
      "metadata": {
        "id": "x8oTPNLCca8c"
      },
      "execution_count": null,
      "outputs": []
    }
  ],
  "metadata": {
    "kernelspec": {
      "display_name": "Python 3",
      "name": "python3"
    },
    "language_info": {
      "codemirror_mode": {
        "name": "ipython",
        "version": 3
      },
      "file_extension": ".py",
      "mimetype": "text/x-python",
      "name": "python",
      "nbconvert_exporter": "python",
      "pygments_lexer": "ipython3",
      "version": "3.8.10"
    },
    "colab": {
      "provenance": [],
      "machine_shape": "hm",
      "toc_visible": true,
      "include_colab_link": true
    }
  },
  "nbformat": 4,
  "nbformat_minor": 0
}