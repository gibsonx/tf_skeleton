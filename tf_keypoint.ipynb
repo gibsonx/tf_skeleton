{
 "cells": [
  {
   "cell_type": "code",
   "execution_count": 1,
   "metadata": {
    "collapsed": false,
    "jupyter": {
     "outputs_hidden": false
    },
    "pycharm": {
     "name": "#%%\n"
    }
   },
   "outputs": [],
   "source": [
    "from pycocotools.coco import COCO\n",
    "import numpy as np\n",
    "import os.path\n",
    "from typing import Any, Callable, List, Optional, Tuple\n",
    "from PIL import Image\n",
    "import matplotlib\n",
    "import matplotlib.pyplot as plt\n",
    "import matplotlib.image as mpimg\n",
    "import os, json, cv2, numpy as np\n",
    "import matplotlib.pyplot as plt\n",
    "import pandas as pd\n",
    "import numpy as np\n",
    "import matplotlib.pyplot as plt\n",
    "\n",
    "import tensorflow as tf\n",
    "import imgaug as ia\n",
    "from keras.models import Sequential\n",
    "\n",
    "from keras.layers import (\n",
    "    Flatten,\n",
    "    Dense,\n",
    "    Dropout,\n",
    "    Conv2D,\n",
    "    LeakyReLU,\n",
    "    BatchNormalization,\n",
    "    MaxPool2D,\n",
    ")\n",
    "\n",
    "from imgaug import augmenters as iaa"
   ]
  },
  {
   "cell_type": "code",
   "execution_count": 2,
   "metadata": {
    "collapsed": false,
    "jupyter": {
     "outputs_hidden": false
    },
    "pycharm": {
     "name": "#%%\n"
    }
   },
   "outputs": [],
   "source": [
    "img_dir=(u'C:\\\\Users\\\\Administrator\\\\Downloads\\\\aspine202030604\\\\images')\n",
    "annotations_file=(u'C:\\\\Users\\\\Administrator\\\\Downloads\\\\aspine202030604\\\\annotations\\\\person_keypoints_Validation.json')"
   ]
  },
  {
   "cell_type": "code",
   "execution_count": 3,
   "metadata": {
    "collapsed": false,
    "jupyter": {
     "outputs_hidden": false
    },
    "pycharm": {
     "name": "#%%\n"
    }
   },
   "outputs": [
    {
     "name": "stdout",
     "output_type": "stream",
     "text": [
      "loading annotations into memory...\n",
      "Done (t=0.00s)\n",
      "creating index...\n",
      "index created!\n"
     ]
    }
   ],
   "source": [
    "coco=COCO(annotations_file)\n",
    "imgIds = coco.getImgIds()"
   ]
  },
  {
   "cell_type": "code",
   "execution_count": 4,
   "metadata": {
    "collapsed": false,
    "jupyter": {
     "outputs_hidden": false
    },
    "pycharm": {
     "name": "#%%\n"
    }
   },
   "outputs": [
    {
     "name": "stdout",
     "output_type": "stream",
     "text": [
      "Total images: 30\n",
      "Image example:\n",
      "{'id': 11, 'width': 1184, 'height': 2112, 'file_name': 'img-00057-00001.jpg', 'license': 0, 'flickr_url': '', 'coco_url': '', 'date_captured': 0}\n",
      "\n",
      "Total annotations: 30\n",
      "Annotation example:\n",
      "[{'id': 11, 'image_id': 11, 'category_id': 1, 'segmentation': [], 'area': 317459.9925, 'bbox': [272.5, 1433.3, 662.41, 479.25], 'iscrowd': 0, 'attributes': {'occluded': False}, 'keypoints': [353.06, 1462.8, 2, 826.77, 1452.2, 2, 272.5, 1530.93, 2, 934.91, 1550.15, 2, 508.41, 1586.86, 2, 729.73, 1583.61, 2, 460.35, 1532.22, 2, 750.18, 1503.7, 2, 616.6, 1553.57, 2, 388.45, 1732.7, 2, 839.84, 1739.53, 2, 443.83, 1906.85, 2, 794.44, 1912.55, 2, 558.2, 1443.78, 2, 646.48, 1433.3, 2, 610.42, 1451.66, 2], 'num_keypoints': 16}]\n"
     ]
    },
    {
     "data": {
      "text/plain": "[[[353.06, 1462.8, 2],\n  [826.77, 1452.2, 2],\n  [272.5, 1530.93, 2],\n  [934.91, 1550.15, 2],\n  [508.41, 1586.86, 2],\n  [729.73, 1583.61, 2],\n  [460.35, 1532.22, 2],\n  [750.18, 1503.7, 2],\n  [616.6, 1553.57, 2],\n  [388.45, 1732.7, 2],\n  [839.84, 1739.53, 2],\n  [443.83, 1906.85, 2],\n  [794.44, 1912.55, 2],\n  [558.2, 1443.78, 2],\n  [646.48, 1433.3, 2],\n  [610.42, 1451.66, 2]]]"
     },
     "execution_count": 4,
     "metadata": {},
     "output_type": "execute_result"
    }
   ],
   "source": [
    "#validation set details\n",
    "imgIds = coco.getImgIds()\n",
    "print(\"Total images: {}\".format(len(imgIds)))\n",
    "rand=np.random.randint(0,len(imgIds))\n",
    "img = coco.loadImgs(imgIds[rand])[0]\n",
    "print(\"Image example:\")\n",
    "print(img)\n",
    "annIds=coco.getAnnIds()\n",
    "print(\"\\nTotal annotations: {}\".format(len(annIds)))\n",
    "ann=coco.loadAnns(coco.getAnnIds(imgIds=img['id']))\n",
    "print(\"Annotation example:\")\n",
    "print(ann)\n",
    "\n",
    "keypoints_original = [[list(a) for a in zip(*[iter(ann[0]['keypoints'])]*3)]]\n",
    "\n",
    "def CoupeToInt(coupe: List[float]) -> List[int]:\n",
    "    return list(map(int, coupe))\n",
    "\n",
    "converted_keypoints = [ CoupeToInt(el[0:2]) for kp in keypoints_original for el in kp ]\n",
    "\n",
    "\n",
    "keypoints_original"
   ]
  },
  {
   "cell_type": "code",
   "execution_count": 5,
   "metadata": {
    "collapsed": false,
    "jupyter": {
     "outputs_hidden": false
    },
    "pycharm": {
     "name": "#%%\n"
    }
   },
   "outputs": [
    {
     "data": {
      "text/plain": "<bound method NDFrame.head of          0        1       2        3       4        5        6        7  \\\n0   361.78  1508.22  855.48  1513.03  229.28  1625.60   929.77  1609.73   \n1   353.52  1464.04  891.57  1475.27  238.98  1665.68  1000.97  1689.26   \n2   311.61  1513.71  830.75  1501.62  207.03  1665.75   940.89  1665.91   \n3   362.08  1515.50  795.72  1529.08  225.00  1649.69   902.30  1627.58   \n4   334.41  1540.74  857.87  1535.83  201.19  1662.91   978.03  1674.63   \n5   358.77  1478.21  871.01  1483.13  239.46  1598.82   946.76  1596.72   \n6   360.16  1469.76  869.19  1529.80  266.26  1678.72   974.44  1688.07   \n7   342.45  1432.92  822.19  1435.99  233.04  1523.33   926.29  1540.03   \n8   372.87  1529.32  821.14  1529.25  212.27  1660.04   938.26  1656.79   \n9   353.59  1517.74  816.92  1477.06  225.31  1636.29   940.45  1595.84   \n10  353.06  1462.80  826.77  1452.20  272.50  1530.93   934.91  1550.15   \n11  320.70  1492.92  833.89  1502.93  223.84  1631.62   941.77  1652.35   \n12  324.52  1548.42  838.32  1527.71  184.09  1645.84   968.94  1674.19   \n13  374.44  1510.09  792.78  1507.95  224.86  1630.25   972.75  1642.72   \n14  400.47  1491.27  813.67  1484.12  303.76  1592.93   911.36  1595.29   \n15  351.49  1523.25  831.23  1551.87  224.17  1649.90   949.93  1698.85   \n16  407.54  1498.60  791.33  1480.75  273.52  1637.14   919.68  1613.97   \n17  320.96  1533.73  845.99  1540.73  209.84  1641.42   955.65  1622.23   \n18  393.61  1538.59  836.10  1549.82  267.45  1651.79   939.08  1651.18   \n19  313.20  1507.05  831.60  1495.16  218.95  1602.03   942.25  1592.66   \n20  368.53  1452.25  744.94  1443.86  223.58  1562.05   891.70  1566.68   \n21  350.43  1477.64  864.12  1461.21  207.50  1604.45   978.04  1590.44   \n22  315.89  1511.59  876.81  1512.97  213.30  1617.00   992.69  1625.41   \n23  369.35  1488.11  849.68  1495.44  246.16  1607.68   977.64  1623.18   \n24  301.66  1499.56  771.21  1428.53  214.45  1590.54   905.05  1510.90   \n25  359.07  1459.79  887.94  1481.06  232.59  1552.30   979.09  1597.55   \n26  332.56  1401.35  834.66  1413.36  185.12  1535.71   980.01  1576.70   \n27  385.21  1491.73  818.90  1486.01  261.16  1592.00   922.04  1592.00   \n28  312.27  1479.24  832.90  1500.02  175.45  1586.40   953.59  1639.70   \n29  354.56  1524.83  779.53  1506.34  178.63  1670.30   991.82  1667.37   \n\n         8        9  ...       23      24       25      26       27      28  \\\n0   483.36  1674.94  ...  2053.87  828.25  2062.51  558.44  1512.97  619.75   \n1   469.11  1602.81  ...  2008.05  746.63  2013.41  554.58  1472.12  636.94   \n2   466.07  1648.47  ...  2066.16  729.00  2058.94  514.86  1515.16  601.08   \n3   465.17  1674.97  ...  2060.61  722.29  2077.15  529.16  1530.95  628.47   \n4   479.72  1675.62  ...  2078.19  754.37  2078.06  553.55  1530.92  656.74   \n5   512.26  1649.35  ...  2013.17  796.45  2025.16  540.90  1510.89  640.38   \n6   503.01  1658.64  ...  2085.04  839.65  2082.92  545.74  1500.23  667.67   \n7   485.03  1560.45  ...  1957.24  718.03  1961.52  518.80  1434.67  611.41   \n8   495.89  1636.04  ...  2052.62  674.21  2037.45  526.07  1507.22  618.01   \n9   471.16  1644.35  ...  2041.95  749.07  2019.88  522.31  1484.58  601.85   \n10  508.41  1586.86  ...  1906.85  794.44  1912.55  558.20  1443.78  646.48   \n11  464.74  1673.67  ...  2063.51  753.22  2067.38  523.51  1536.00  631.68   \n12  445.52  1678.93  ...  2053.26  749.74  2034.72  522.38  1519.60  607.43   \n13  491.75  1650.05  ...  2042.36  744.49  2035.21  536.76  1529.44  644.77   \n14  506.65  1605.31  ...  1947.29  739.16  1942.14  566.61  1514.19  642.86   \n15  474.61  1674.96  ...  2053.32  697.49  2075.41  546.91  1529.53  646.92   \n16  477.89  1618.62  ...  1938.81  751.30  1899.29  544.86  1487.91  615.10   \n17  499.81  1674.04  ...  2054.67  781.85  2049.38  538.64  1538.93  637.22   \n18  514.27  1651.73  ...  2045.43  752.83  2030.05  558.30  1539.96  638.50   \n19  458.80  1619.83  ...  2051.76  761.82  2034.02  496.12  1500.13  639.14   \n20  481.77  1569.09  ...  1910.15  723.48  1901.99  521.04  1476.59  599.54   \n21  471.85  1588.00  ...  2031.94  785.18  2004.75  531.03  1466.96  612.90   \n22  488.48  1608.36  ...  2053.09  817.26  2024.86  543.98  1498.30  633.84   \n23  539.96  1664.53  ...  2027.64  762.82  2027.50  563.52  1492.22  654.16   \n24  429.91  1605.84  ...  1991.19  771.99  1931.05  470.15  1487.19  558.66   \n25  521.48  1604.50  ...  2003.93  755.86  2033.61  566.87  1502.32  661.09   \n26  469.63  1559.56  ...  1976.43  723.41  1977.02  523.81  1409.87  623.27   \n27  545.50  1608.69  ...  1949.05  763.04  1936.68  551.06  1491.22  644.28   \n28  489.14  1620.99  ...  2047.91  740.24  2047.01  509.12  1494.57  598.93   \n29  458.90  1658.53  ...  2072.29  821.98  2044.75  514.38  1496.64  614.94   \n\n         29      30       31  \\\n0   1513.76  589.43  1514.33   \n1   1467.83  601.27  1476.47   \n2   1514.43  563.71  1526.80   \n3   1537.82  579.28  1538.35   \n4   1533.43  595.32  1548.20   \n5   1511.88  584.69  1522.86   \n6   1498.99  603.53  1511.98   \n7   1428.41  571.17  1454.12   \n8   1514.01  565.76  1521.91   \n9   1484.48  572.22  1511.56   \n10  1433.30  610.42  1451.66   \n11  1534.04  577.39  1557.51   \n12  1510.51  561.15  1547.05   \n13  1528.24  586.99  1538.72   \n14  1512.70  603.18  1523.17   \n15  1526.14  600.36  1533.42   \n16  1483.91  582.41  1492.25   \n17  1539.80  592.53  1562.88   \n18  1528.79  603.57  1554.41   \n19  1496.11  558.41  1516.47   \n20  1483.28  558.02  1503.21   \n21  1460.12  577.09  1483.23   \n22  1484.23  592.44  1493.80   \n23  1500.57  617.65  1515.37   \n24  1465.21  516.75  1494.61   \n25  1501.63  619.05  1517.12   \n26  1415.59  575.32  1406.33   \n27  1487.70  597.78  1493.88   \n28  1505.87  556.44  1517.21   \n29  1489.46  575.69  1518.83   \n\n                                                image  \n0   [[[0, 0, 0], [0, 0, 0], [0, 0, 0], [0, 0, 0], ...  \n1   [[[0, 0, 0], [0, 0, 0], [0, 0, 0], [0, 0, 0], ...  \n2   [[[0, 0, 0], [0, 0, 0], [0, 0, 0], [0, 0, 0], ...  \n3   [[[0, 0, 0], [0, 0, 0], [0, 0, 0], [0, 0, 0], ...  \n4   [[[0, 0, 0], [0, 0, 0], [0, 0, 0], [0, 0, 0], ...  \n5   [[[0, 0, 0], [0, 0, 0], [0, 0, 0], [0, 0, 0], ...  \n6   [[[0, 0, 0], [0, 0, 0], [0, 0, 0], [0, 0, 0], ...  \n7   [[[0, 0, 0], [0, 0, 0], [0, 0, 0], [0, 0, 0], ...  \n8   [[[0, 0, 0], [0, 0, 0], [0, 0, 0], [0, 0, 0], ...  \n9   [[[0, 0, 0], [0, 0, 0], [0, 0, 0], [0, 0, 0], ...  \n10  [[[0, 0, 0], [0, 0, 0], [0, 0, 0], [0, 0, 0], ...  \n11  [[[0, 0, 0], [0, 0, 0], [0, 0, 0], [0, 0, 0], ...  \n12  [[[0, 0, 0], [0, 0, 0], [0, 0, 0], [0, 0, 0], ...  \n13  [[[0, 0, 0], [0, 0, 0], [0, 0, 0], [0, 0, 0], ...  \n14  [[[0, 0, 0], [0, 0, 0], [0, 0, 0], [0, 0, 0], ...  \n15  [[[0, 0, 0], [0, 0, 0], [0, 0, 0], [0, 0, 0], ...  \n16  [[[0, 0, 0], [0, 0, 0], [0, 0, 0], [0, 0, 0], ...  \n17  [[[0, 0, 0], [0, 0, 0], [0, 0, 0], [0, 0, 0], ...  \n18  [[[0, 0, 0], [0, 0, 0], [0, 0, 0], [0, 0, 0], ...  \n19  [[[0, 0, 0], [0, 0, 0], [0, 0, 0], [0, 0, 0], ...  \n20  [[[0, 0, 0], [0, 0, 0], [0, 0, 0], [0, 0, 0], ...  \n21  [[[0, 0, 0], [0, 0, 0], [0, 0, 0], [0, 0, 0], ...  \n22  [[[0, 0, 0], [0, 0, 0], [0, 0, 0], [0, 0, 0], ...  \n23  [[[0, 0, 0], [0, 0, 0], [0, 0, 0], [0, 0, 0], ...  \n24  [[[0, 0, 0], [0, 0, 0], [0, 0, 0], [0, 0, 0], ...  \n25  [[[0, 0, 0], [0, 0, 0], [0, 0, 0], [0, 0, 0], ...  \n26  [[[0, 0, 0], [0, 0, 0], [0, 0, 0], [0, 0, 0], ...  \n27  [[[0, 0, 0], [0, 0, 0], [0, 0, 0], [0, 0, 0], ...  \n28  [[[0, 0, 0], [0, 0, 0], [0, 0, 0], [0, 0, 0], ...  \n29  [[[0, 0, 0], [0, 0, 0], [0, 0, 0], [0, 0, 0], ...  \n\n[30 rows x 33 columns]>"
     },
     "execution_count": 5,
     "metadata": {},
     "output_type": "execute_result"
    }
   ],
   "source": [
    "kps_metrix = []\n",
    "image_list = []\n",
    "\n",
    "for id in imgIds:\n",
    "    img = coco.loadImgs(id)[0]\n",
    "    imgPath = os.path.join(img_dir,img['file_name'])\n",
    "    image_list.append(Image.open(imgPath))\n",
    "\n",
    "    # load annotations\n",
    "    ann=coco.loadAnns(coco.getAnnIds(imgIds=img['id']))\n",
    "    keypoints_original = [[list(a) for a in zip(*[iter(ann[0]['keypoints'])]*3)]]\n",
    "    kps_row = []\n",
    "    for kp in keypoints_original:\n",
    "        for el in kp:\n",
    "            kps_row.extend(el[0:2])\n",
    "\n",
    "    kps_metrix.append(kps_row)\n",
    "\n",
    "df = pd.DataFrame(kps_metrix)\n",
    "\n",
    "image_array_list = [np.array(img) for img in image_list]\n",
    "df['image'] = image_array_list\n",
    "\n",
    "df.head"
   ]
  },
  {
   "cell_type": "code",
   "execution_count": 6,
   "metadata": {
    "collapsed": false,
    "jupyter": {
     "outputs_hidden": false
    },
    "pycharm": {
     "name": "#%%\n"
    }
   },
   "outputs": [],
   "source": [
    "#df.to_csv('out\\df.csv')"
   ]
  },
  {
   "cell_type": "code",
   "execution_count": 8,
   "metadata": {
    "collapsed": false,
    "jupyter": {
     "outputs_hidden": false
    },
    "pycharm": {
     "name": "#%%\n"
    }
   },
   "outputs": [],
   "source": [
    "keypoints_classes_ids2names = {0: '1', 1: '2', 2: '3', 3: '4', 4: '5', 5: '6', 6: '7', 7: '8', 8: '9', 9: '10', 10: '11', 11: '12', 12: '13', 13: '14', 14: '15', 15: '16'}\n",
    "\n",
    "def CoupeToInt(coupe: List[float]) -> List[int]:\n",
    "    return list(map(int, coupe))\n",
    "\n",
    "def visualize(array, keypoints):\n",
    "\n",
    "    # image = Image.fromarray(array)\n",
    "\n",
    "    open_cv_image = np.array(array)\n",
    "    image = open_cv_image[:, :, ::-1].copy()\n",
    "    # image = cv2.cvtColor(image, cv2.COLOR_RGB2BGR)\n",
    "\n",
    "    converted_keypoints = [CoupeToInt(list(a)) for a in zip(*[iter(keypoints)]*2)]\n",
    "\n",
    "    for idx, kp in enumerate(converted_keypoints):\n",
    "        image = cv2.putText(image.copy(), \"\" + keypoints_classes_ids2names[idx], tuple(kp), cv2.FONT_HERSHEY_PLAIN, 2, (32,253,0), 3, cv2.LINE_AA)\n",
    "        image = cv2.circle(image.copy(), tuple(kp), 5, (255,0,0), 10)\n",
    "\n",
    "    plt.figure(figsize=(25,25))\n",
    "    plt.imshow(image)\n",
    "    plt.show()\n"
   ]
  },
  {
   "cell_type": "markdown",
   "source": [
    "#Ramdomly load a image"
   ],
   "metadata": {
    "collapsed": false,
    "pycharm": {
     "name": "#%% md\n"
    }
   }
  },
  {
   "cell_type": "code",
   "execution_count": 9,
   "outputs": [],
   "source": [
    "rand_number = np.random.randint(0,len(imgIds))\n",
    "simple_row = df.iloc[rand_number]\n",
    "image = simple_row['image']\n",
    "annotations = simple_row[:31]"
   ],
   "metadata": {
    "collapsed": false,
    "pycharm": {
     "name": "#%%\n"
    }
   }
  },
  {
   "cell_type": "markdown",
   "source": [
    "#Image Argumentation"
   ],
   "metadata": {
    "collapsed": false,
    "pycharm": {
     "name": "#%% md\n"
    }
   }
  },
  {
   "cell_type": "code",
   "execution_count": null,
   "outputs": [],
   "source": [
    "open_cv_image = np.array(image)\n",
    "img = open_cv_image[:, :, ::-1]\n",
    "# img.shape\n",
    "# ia.seed(4)\n",
    "# rotate = iaa.Affine(rotate=(-25, 25))\n",
    "# image_aug = rotate(image=img)\n",
    "ia.imshow(img)"
   ],
   "metadata": {
    "collapsed": false,
    "pycharm": {
     "name": "#%%\n"
    }
   }
  },
  {
   "cell_type": "code",
   "execution_count": null,
   "metadata": {
    "collapsed": false,
    "jupyter": {
     "outputs_hidden": false
    },
    "pycharm": {
     "name": "#%%\n"
    }
   },
   "outputs": [],
   "source": [
    "visualize(image, annotations)"
   ]
  },
  {
   "cell_type": "code",
   "execution_count": null,
   "outputs": [],
   "source": [
    "print(123)"
   ],
   "metadata": {
    "collapsed": false,
    "pycharm": {
     "name": "#%%\n",
     "is_executing": true
    }
   }
  },
  {
   "cell_type": "code",
   "execution_count": 66,
   "metadata": {
    "collapsed": false,
    "jupyter": {
     "outputs_hidden": false
    },
    "pycharm": {
     "name": "#%%\n"
    }
   },
   "outputs": [],
   "source": [
    "# Building a CNN model using Sequential API\n",
    "model = Sequential([\n",
    "    Conv2D(8, (5, 5), padding='same', use_bias=False, input_shape=(2112, 1184, 3)),\n",
    "    LeakyReLU(alpha=0.1),\n",
    "    BatchNormalization(),\n",
    "    MaxPool2D(pool_size=(2, 2)),\n",
    "\n",
    "    Conv2D(16, (4, 4), padding='same', use_bias=False),\n",
    "    LeakyReLU(alpha=0.1),\n",
    "    BatchNormalization(),\n",
    "    MaxPool2D(pool_size=(2, 2)),\n",
    "\n",
    "    Conv2D(32, (3, 3), padding='same', use_bias=False),\n",
    "    LeakyReLU(alpha=0.1),\n",
    "    BatchNormalization(),\n",
    "    MaxPool2D(pool_size=(2, 2)),\n",
    "\n",
    "    Conv2D(64, (2, 2), padding='same', use_bias=False),\n",
    "    LeakyReLU(alpha=0.1),\n",
    "    BatchNormalization(),\n",
    "    MaxPool2D(pool_size=(2, 2)),\n",
    "\n",
    "    Flatten(),\n",
    "    Dense(512, activation='relu'),\n",
    "    Dense(256, activation='relu'),\n",
    "    Dropout(0.5),\n",
    "    Dense(32)\n",
    "])"
   ]
  },
  {
   "cell_type": "code",
   "execution_count": 67,
   "metadata": {
    "collapsed": false,
    "jupyter": {
     "outputs_hidden": false
    },
    "pycharm": {
     "name": "#%%\n"
    }
   },
   "outputs": [
    {
     "name": "stdout",
     "output_type": "stream",
     "text": [
      "Model: \"sequential_7\"\n",
      "_________________________________________________________________\n",
      " Layer (type)                Output Shape              Param #   \n",
      "=================================================================\n",
      " conv2d_23 (Conv2D)          (None, 2112, 1184, 8)     600       \n",
      "                                                                 \n",
      " leaky_re_lu_23 (LeakyReLU)  (None, 2112, 1184, 8)     0         \n",
      "                                                                 \n",
      " batch_normalization_23 (Ba  (None, 2112, 1184, 8)     32        \n",
      " tchNormalization)                                               \n",
      "                                                                 \n",
      " max_pooling2d_23 (MaxPooli  (None, 1056, 592, 8)      0         \n",
      " ng2D)                                                           \n",
      "                                                                 \n",
      " conv2d_24 (Conv2D)          (None, 1056, 592, 16)     2048      \n",
      "                                                                 \n",
      " leaky_re_lu_24 (LeakyReLU)  (None, 1056, 592, 16)     0         \n",
      "                                                                 \n",
      " batch_normalization_24 (Ba  (None, 1056, 592, 16)     64        \n",
      " tchNormalization)                                               \n",
      "                                                                 \n",
      " max_pooling2d_24 (MaxPooli  (None, 528, 296, 16)      0         \n",
      " ng2D)                                                           \n",
      "                                                                 \n",
      " conv2d_25 (Conv2D)          (None, 528, 296, 32)      4608      \n",
      "                                                                 \n",
      " leaky_re_lu_25 (LeakyReLU)  (None, 528, 296, 32)      0         \n",
      "                                                                 \n",
      " batch_normalization_25 (Ba  (None, 528, 296, 32)      128       \n",
      " tchNormalization)                                               \n",
      "                                                                 \n",
      " max_pooling2d_25 (MaxPooli  (None, 264, 148, 32)      0         \n",
      " ng2D)                                                           \n",
      "                                                                 \n",
      " conv2d_26 (Conv2D)          (None, 264, 148, 64)      8192      \n",
      "                                                                 \n",
      " leaky_re_lu_26 (LeakyReLU)  (None, 264, 148, 64)      0         \n",
      "                                                                 \n",
      " batch_normalization_26 (Ba  (None, 264, 148, 64)      256       \n",
      " tchNormalization)                                               \n",
      "                                                                 \n",
      " max_pooling2d_26 (MaxPooli  (None, 132, 74, 64)       0         \n",
      " ng2D)                                                           \n",
      "                                                                 \n",
      " flatten_7 (Flatten)         (None, 625152)            0         \n",
      "                                                                 \n",
      " dense_21 (Dense)            (None, 512)               320078336 \n",
      "                                                                 \n",
      " dense_22 (Dense)            (None, 256)               131328    \n",
      "                                                                 \n",
      " dropout_7 (Dropout)         (None, 256)               0         \n",
      "                                                                 \n",
      " dense_23 (Dense)            (None, 32)                8224      \n",
      "                                                                 \n",
      "=================================================================\n",
      "Total params: 320233816 (1.19 GB)\n",
      "Trainable params: 320233576 (1.19 GB)\n",
      "Non-trainable params: 240 (960.00 Byte)\n",
      "_________________________________________________________________\n"
     ]
    }
   ],
   "source": [
    "model.summary()"
   ]
  },
  {
   "cell_type": "code",
   "execution_count": 68,
   "metadata": {
    "collapsed": false,
    "jupyter": {
     "outputs_hidden": false
    },
    "pycharm": {
     "name": "#%%\n"
    }
   },
   "outputs": [
    {
     "name": "stdout",
     "output_type": "stream",
     "text": [
      "You must install pydot (`pip install pydot`) and install graphviz (see instructions at https://graphviz.gitlab.io/download/) for plot_model to work.\n"
     ]
    }
   ],
   "source": [
    "tf.keras.utils.plot_model(model, show_shapes=True)"
   ]
  },
  {
   "cell_type": "code",
   "execution_count": 69,
   "metadata": {
    "collapsed": false,
    "jupyter": {
     "outputs_hidden": false
    },
    "pycharm": {
     "name": "#%%\n"
    }
   },
   "outputs": [],
   "source": [
    "# initializing few hyper parameters\n",
    "epochs = 200\n",
    "batch_size = 64\n",
    "validation_split = 0.2"
   ]
  },
  {
   "cell_type": "code",
   "execution_count": 70,
   "metadata": {
    "collapsed": false,
    "jupyter": {
     "outputs_hidden": false
    },
    "pycharm": {
     "name": "#%%\n"
    }
   },
   "outputs": [],
   "source": [
    "y_train=df.loc[:, df.columns != 'image']"
   ]
  },
  {
   "cell_type": "code",
   "execution_count": 71,
   "metadata": {
    "collapsed": false,
    "jupyter": {
     "outputs_hidden": false
    },
    "pycharm": {
     "name": "#%%\n"
    }
   },
   "outputs": [],
   "source": [
    "x_train=np.stack(df['image'])"
   ]
  },
  {
   "cell_type": "code",
   "execution_count": null,
   "metadata": {
    "collapsed": false,
    "jupyter": {
     "outputs_hidden": false
    },
    "pycharm": {
     "name": "#%%\n"
    }
   },
   "outputs": [
    {
     "name": "stdout",
     "output_type": "stream",
     "text": [
      "Epoch 1/200\n"
     ]
    }
   ],
   "source": [
    "model.compile(optimizer='adam',loss='mean_squared_error',metrics=['accuracy'])\n",
    "history=model.fit(x_train, y_train, epochs=epochs, batch_size=batch_size, validation_split = validation_split)"
   ]
  },
  {
   "cell_type": "code",
   "execution_count": null,
   "metadata": {
    "pycharm": {
     "name": "#%%\n"
    }
   },
   "outputs": [],
   "source": []
  }
 ],
 "metadata": {
  "kernelspec": {
   "display_name": "Python 3 (ipykernel)",
   "language": "python",
   "name": "python3"
  },
  "language_info": {
   "codemirror_mode": {
    "name": "ipython",
    "version": 3
   },
   "file_extension": ".py",
   "mimetype": "text/x-python",
   "name": "python",
   "nbconvert_exporter": "python",
   "pygments_lexer": "ipython3",
   "version": "3.8.10"
  }
 },
 "nbformat": 4,
 "nbformat_minor": 4
}