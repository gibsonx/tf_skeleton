{
  "cells": [
    {
      "cell_type": "markdown",
      "metadata": {
        "id": "view-in-github",
        "colab_type": "text"
      },
      "source": [
        "<a href=\"https://colab.research.google.com/github/gibsonx/tf_skeleton/blob/master/tf_keypoint_colab.ipynb\" target=\"_parent\"><img src=\"https://colab.research.google.com/assets/colab-badge.svg\" alt=\"Open In Colab\"/></a>"
      ]
    },
    {
      "cell_type": "code",
      "source": [
        "from google.colab import drive\n",
        "drive.mount('/content/drive')"
      ],
      "metadata": {
        "id": "bVmURZAl5rq0",
        "pycharm": {
          "name": "#%%\n"
        }
      },
      "execution_count": null,
      "outputs": []
    },
    {
      "cell_type": "code",
      "source": [
        "!git clone https://github.com/gibsonx/tf_skeleton.git"
      ],
      "metadata": {
        "id": "ilMaJumK4NYw",
        "outputId": "beae91cb-3ccf-4f97-8407-43a21a73424d",
        "colab": {
          "base_uri": "https://localhost:8080/"
        },
        "pycharm": {
          "name": "#%%\n"
        }
      },
      "execution_count": null,
      "outputs": [
        {
          "output_type": "stream",
          "name": "stdout",
          "text": [
            "fatal: destination path 'tf_skeleton' already exists and is not an empty directory.\n"
          ]
        }
      ]
    },
    {
      "cell_type": "code",
      "source": [
        "!pip install -r /content/tf_skeleton/requirements.txt > /dev/null"
      ],
      "metadata": {
        "id": "OXB6FMV55aDu",
        "pycharm": {
          "name": "#%%\n"
        }
      },
      "execution_count": null,
      "outputs": []
    },
    {
      "cell_type": "code",
      "execution_count": 3,
      "metadata": {
        "jupyter": {
          "outputs_hidden": false
        },
        "pycharm": {
          "is_executing": true,
          "name": "#%%\n"
        },
        "id": "Ml1hZoUn4BOo"
      },
      "outputs": [],
      "source": [
        "from pycocotools.coco import COCO\n",
        "import numpy as np\n",
        "import os.path\n",
        "from typing import Any, Callable, List, Optional, Tuple\n",
        "from PIL import Image\n",
        "import matplotlib\n",
        "import matplotlib.pyplot as plt\n",
        "import matplotlib.image as mpimg\n",
        "import os, json, cv2, numpy as np\n",
        "import matplotlib.pyplot as plt\n",
        "import pandas as pd\n",
        "import numpy as np\n",
        "import matplotlib.pyplot as plt\n",
        "\n",
        "import tensorflow as tf\n",
        "\n",
        "from keras.models import Sequential\n",
        "\n",
        "from keras.layers import (\n",
        "    Flatten,\n",
        "    Dense,\n",
        "    Dropout,\n",
        "    Conv2D,\n",
        "    LeakyReLU,\n",
        "    BatchNormalization,\n",
        "    MaxPool2D,\n",
        ")\n",
        "from imgaug import augmenters as iaa\n",
        "import imgaug as ia\n",
        "import imageio\n",
        "\n",
        "from imgaug.augmentables.kps import Keypoint, KeypointsOnImage"
      ]
    },
    {
      "cell_type": "code",
      "execution_count": 4,
      "metadata": {
        "jupyter": {
          "outputs_hidden": false
        },
        "pycharm": {
          "is_executing": true,
          "name": "#%%\n"
        },
        "id": "bV-AwtlZ4BOq"
      },
      "outputs": [],
      "source": [
        "img_dir=\"/content/drive/MyDrive/Dataset/aspine202030604/images\"\n",
        "annotations_file=\"/content/drive/MyDrive/Dataset/aspine202030604/annotations/person_keypoints_Train.json\""
      ]
    },
    {
      "cell_type": "code",
      "execution_count": 5,
      "metadata": {
        "jupyter": {
          "outputs_hidden": false
        },
        "pycharm": {
          "name": "#%%\n"
        },
        "id": "62F-a28a4BOr",
        "outputId": "2e1d9191-2470-4056-9745-8dc07644a7ec",
        "colab": {
          "base_uri": "https://localhost:8080/"
        }
      },
      "outputs": [
        {
          "output_type": "stream",
          "name": "stdout",
          "text": [
            "loading annotations into memory...\n",
            "Done (t=0.58s)\n",
            "creating index...\n",
            "index created!\n"
          ]
        }
      ],
      "source": [
        "coco=COCO(annotations_file)\n",
        "imgIds = coco.getImgIds()"
      ]
    },
    {
      "cell_type": "code",
      "source": [
        "kps_metrix = []\n",
        "image_list = []\n",
        "\n",
        "for id in imgIds:\n",
        "    img = coco.loadImgs(id)[0]\n",
        "    imgPath = os.path.join(img_dir,img['file_name'])\n",
        "    image_list.append(Image.open(imgPath))\n",
        "\n",
        "    # load annotations\n",
        "    ann=coco.loadAnns(coco.getAnnIds(imgIds=img['id']))\n",
        "    keypoints_original = [[list(a) for a in zip(*[iter(ann[0]['keypoints'])]*3)]]\n",
        "    kps_row = []\n",
        "    for kp in keypoints_original:\n",
        "        for el in kp:\n",
        "            kps_row.extend(el[0:2])\n",
        "\n",
        "    kps_metrix.append(kps_row)\n",
        "\n",
        "df = pd.DataFrame(kps_metrix)\n",
        "\n",
        "image_array_list = [np.array(img) for img in image_list]\n",
        "df['image'] = image_array_list\n",
        "\n",
        "df.head"
      ],
      "metadata": {
        "id": "cmpAquPBIqqk"
      },
      "execution_count": null,
      "outputs": []
    },
    {
      "cell_type": "code",
      "execution_count": 8,
      "metadata": {
        "jupyter": {
          "outputs_hidden": false
        },
        "pycharm": {
          "name": "#%%\n"
        },
        "id": "NAqGpqSb4BOt"
      },
      "outputs": [],
      "source": [
        "df.to_csv('/content/drive/MyDrive/Dataset/person_keypoints_Train.csv')"
      ]
    },
    {
      "cell_type": "code",
      "execution_count": null,
      "metadata": {
        "jupyter": {
          "outputs_hidden": false
        },
        "pycharm": {
          "name": "#%%\n"
        },
        "id": "OlFH2tX14BOu"
      },
      "outputs": [],
      "source": [
        "keypoints_classes_ids2names = {0: '1', 1: '2', 2: '3', 3: '4', 4: '5', 5: '6', 6: '7', 7: '8', 8: '9', 9: '10', 10: '11', 11: '12', 12: '13', 13: '14', 14: '15', 15: '16'}\n",
        "\n",
        "def CoupeToInt(coupe: List[float]) -> List[int]:\n",
        "    return list(map(int, coupe))\n",
        "\n",
        "def visualize(array, keypoints):\n",
        "\n",
        "    # image = Image.fromarray(array)\n",
        "\n",
        "    open_cv_image = np.array(array)\n",
        "    image = open_cv_image[:, :, ::-1].copy()\n",
        "    # image = cv2.cvtColor(image, cv2.COLOR_RGB2BGR)\n",
        "\n",
        "    converted_keypoints = [CoupeToInt(list(a)) for a in zip(*[iter(keypoints)]*2)]\n",
        "\n",
        "    for idx, kp in enumerate(converted_keypoints):\n",
        "        image = cv2.putText(image.copy(), \"\" + keypoints_classes_ids2names[idx], tuple(kp), cv2.FONT_HERSHEY_PLAIN, 2, (32,253,0), 3, cv2.LINE_AA)\n",
        "        image = cv2.circle(image.copy(), tuple(kp), 5, (255,0,0), 10)\n",
        "\n",
        "    plt.figure(figsize=(25,25))\n",
        "    plt.imshow(image)\n",
        "    plt.show()"
      ]
    },
    {
      "cell_type": "code",
      "execution_count": null,
      "metadata": {
        "jupyter": {
          "outputs_hidden": false
        },
        "pycharm": {
          "name": "#%%\n"
        },
        "id": "WiesMoGS4BOu"
      },
      "outputs": [],
      "source": [
        "rand_number = np.random.randint(0,len(imgIds))\n",
        "simple_row = df.iloc[rand_number]\n",
        "image = simple_row['image']\n",
        "annotations = simple_row[:31]"
      ]
    },
    {
      "cell_type": "code",
      "source": [
        "open_cv_image = np.array(image)\n",
        "converted_keypoints = [list(a) for a in zip(*[iter(annotations)]*2)]\n",
        "\n",
        "kps = [Keypoint(x=coodination[0], y=coodination[1]) for coodination in converted_keypoints ]\n",
        "kpsoi = KeypointsOnImage(kps, shape=open_cv_image.shape)\n",
        "\n",
        "image_with_kps = kpsoi.draw_on_image(open_cv_image, size=15)\n",
        "\n",
        "ia.seed(1)\n",
        "\n",
        "seq = iaa.Sequential([\n",
        "    iaa.Resize({\"height\": 1024, \"width\": 560})\n",
        "])\n",
        "\n",
        "image_aug, kpsoi_aug = seq(image=image, keypoints=kpsoi)\n",
        "\n",
        "for i in range(len(kpsoi.keypoints)):\n",
        "    before = kpsoi.keypoints[i]\n",
        "    after = kpsoi_aug.keypoints[i]\n",
        "    print(\"Keypoint %d: (%.8f, %.8f) -> (%.8f, %.8f)\" % (\n",
        "        i, before.x, before.y, after.x, after.y)\n",
        "    )\n",
        "image_aug"
      ],
      "metadata": {
        "id": "WuciaoZrJHDJ"
      },
      "execution_count": null,
      "outputs": []
    },
    {
      "cell_type": "code",
      "source": [
        "class DataGenerator(keras.utils.all_utils.Sequence):\n",
        "\n",
        "  def __init__(self, file_name, rows_per_batch=50, shuffle=False):\n",
        "      self.rows_per_batch = rows_per_batch\n",
        "      self.shuffle = shuffle\n",
        "      self.file_name = file_name\n",
        "      self.on_epoch_end()\n",
        "      reader = csv.reader(open(self.file_name, 'r'))\n",
        "      self.lines = list(reader)\n",
        "\n",
        "  def __len__(self):\n",
        "      return len(self.lines) // self.rows_per_batch\n",
        "\n",
        "  def __getitem__(self, index):\n",
        "      skip_rows = index * self.rows_per_batch\n",
        "      nrows = (index + 1) * self.rows_per_batch\n",
        "      X, y = self.__data_generation(self.folder_name, self.file_name, skip_rows, nrows)\n",
        "\n",
        "      return X, y\n",
        "\n",
        "  def on_epoch_end(self):\n",
        "      if self.shuffle == True:\n",
        "          np.random.shuffle(self.indexes)\n",
        "\n",
        "  def __data_generation(self, file_name, skip_rows, nrows, config_file):\n",
        "\n",
        "      df = pd.read_csv(file_name, header=None, skiprows=skip_rows, nrows=nrows)\n",
        "\n",
        "      < do some data processing here >\n",
        "\n",
        "      return X, y\n",
        "\n",
        "# main program\n",
        "file_name = <some filename>\n",
        "rows_per_batch = <some number>\n",
        "\n",
        "a = DataGenerator(file_name, rows_per_batch, shuffle=False)\n",
        "b = DataGenerator(file_name, rows_per_batch, shuffle=False)\n",
        "\n",
        "# Train model on dataset\n",
        "model.fit_generator(generator=a,\n",
        "                  validation_data=b,\n",
        "                  use_multiprocessing=False,\n",
        "                  shuffle=False,\n",
        "                  epochs=10,\n",
        "                  workers=6)"
      ],
      "metadata": {
        "id": "XokGAyMKSSAf"
      },
      "execution_count": null,
      "outputs": []
    },
    {
      "cell_type": "code",
      "execution_count": null,
      "outputs": [],
      "source": [
        "# Building a CNN model using Sequential API\n",
        "model = Sequential([\n",
        "    Conv2D(1, (5, 5), padding='same', use_bias=False, input_shape=(2112, 1184, 3)),\n",
        "    LeakyReLU(alpha=0.1),\n",
        "    BatchNormalization(),\n",
        "    MaxPool2D(pool_size=(2, 2)),\n",
        "\n",
        "    # Conv2D(32, (4, 4), padding='same', use_bias=False),\n",
        "    # LeakyReLU(alpha=0.1),\n",
        "    # BatchNormalization(),\n",
        "    # MaxPool2D(pool_size=(2, 2)),\n",
        "\n",
        "    # Conv2D(64, (3, 3), padding='same', use_bias=False),\n",
        "    # LeakyReLU(alpha=0.1),\n",
        "    # BatchNormalization(),\n",
        "    # MaxPool2D(pool_size=(2, 2)),\n",
        "\n",
        "    # Conv2D(128, (2, 2), padding='same', use_bias=False),\n",
        "    # LeakyReLU(alpha=0.1),\n",
        "    # BatchNormalization(),\n",
        "    # MaxPool2D(pool_size=(2, 2)),\n",
        "\n",
        "    Flatten(),\n",
        "    Dense(1024, activation='relu'),\n",
        "    Dense(512, activation='relu'),\n",
        "    Dropout(0.5),\n",
        "    Dense(32)\n",
        "])"
      ],
      "metadata": {
        "pycharm": {
          "name": "#%%\n"
        },
        "id": "1ycR5JZa4BOu"
      }
    },
    {
      "cell_type": "code",
      "execution_count": null,
      "outputs": [],
      "source": [
        "model.summary()"
      ],
      "metadata": {
        "pycharm": {
          "name": "#%%\n"
        },
        "id": "iqX89J3s4BOv"
      }
    },
    {
      "cell_type": "code",
      "execution_count": null,
      "outputs": [],
      "source": [
        "tf.keras.utils.plot_model(model, show_shapes=True)"
      ],
      "metadata": {
        "pycharm": {
          "name": "#%%\n"
        },
        "id": "qkVLOY7s4BOv"
      }
    },
    {
      "cell_type": "code",
      "execution_count": null,
      "outputs": [],
      "source": [
        "# initializing few hyper parameters\n",
        "epochs = 1\n",
        "batch_size = 128\n",
        "validation_split = 0.2"
      ],
      "metadata": {
        "pycharm": {
          "name": "#%%\n"
        },
        "id": "vcNLoOsA4BOv"
      }
    },
    {
      "cell_type": "code",
      "execution_count": null,
      "outputs": [],
      "source": [
        "\n",
        "y_train=df.loc[:, df.columns != 'image']"
      ],
      "metadata": {
        "pycharm": {
          "name": "#%%\n"
        },
        "id": "X85s3uXs4BOv"
      }
    },
    {
      "cell_type": "code",
      "execution_count": null,
      "outputs": [],
      "source": [
        "x_train=np.stack(df['image'])"
      ],
      "metadata": {
        "pycharm": {
          "name": "#%%\n"
        },
        "id": "NCWZCPxQ4BOv"
      }
    },
    {
      "cell_type": "code",
      "execution_count": null,
      "metadata": {
        "pycharm": {
          "name": "#%%\n"
        },
        "id": "nlSZQZHY4BOv"
      },
      "outputs": [],
      "source": [
        "x_train=np.stack(df['image'])"
      ]
    },
    {
      "cell_type": "code",
      "execution_count": null,
      "metadata": {
        "jupyter": {
          "outputs_hidden": false
        },
        "pycharm": {
          "name": "#%%\n"
        },
        "id": "_3TgP0RW4BOw"
      },
      "outputs": [],
      "source": [
        "model.compile(optimizer='adam',loss='mean_squared_error',metrics=['mae'])\n",
        "history=model.fit(x_train, y_train, epochs=epochs, batch_size=batch_size, validation_split = validation_split)"
      ]
    },
    {
      "cell_type": "code",
      "execution_count": null,
      "metadata": {
        "pycharm": {
          "name": "#%%\n"
        },
        "id": "CkOZjbsu4BOw"
      },
      "outputs": [],
      "source": []
    }
  ],
  "metadata": {
    "kernelspec": {
      "display_name": "Python 3",
      "name": "python3"
    },
    "language_info": {
      "codemirror_mode": {
        "name": "ipython",
        "version": 3
      },
      "file_extension": ".py",
      "mimetype": "text/x-python",
      "name": "python",
      "nbconvert_exporter": "python",
      "pygments_lexer": "ipython3",
      "version": "3.8.10"
    },
    "colab": {
      "provenance": [],
      "include_colab_link": true
    }
  },
  "nbformat": 4,
  "nbformat_minor": 0
}