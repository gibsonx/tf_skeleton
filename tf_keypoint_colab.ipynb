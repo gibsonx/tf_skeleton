{
  "cells": [
    {
      "cell_type": "markdown",
      "metadata": {
        "id": "view-in-github",
        "colab_type": "text"
      },
      "source": [
        "<a href=\"https://colab.research.google.com/github/gibsonx/tf_skeleton/blob/master/tf_keypoint_colab.ipynb\" target=\"_parent\"><img src=\"https://colab.research.google.com/assets/colab-badge.svg\" alt=\"Open In Colab\"/></a>"
      ]
    },
    {
      "cell_type": "code",
      "source": [
        "from google.colab import drive\n",
        "drive.mount('/content/drive')"
      ],
      "metadata": {
        "id": "bVmURZAl5rq0",
        "pycharm": {
          "name": "#%%\n"
        },
        "outputId": "48a132ed-74f9-4021-e9fd-6725177f786a",
        "colab": {
          "base_uri": "https://localhost:8080/"
        }
      },
      "execution_count": 1,
      "outputs": [
        {
          "output_type": "stream",
          "name": "stdout",
          "text": [
            "Drive already mounted at /content/drive; to attempt to forcibly remount, call drive.mount(\"/content/drive\", force_remount=True).\n"
          ]
        }
      ]
    },
    {
      "cell_type": "code",
      "source": [
        "#!git clone https://github.com/gibsonx/tf_skeleton.git"
      ],
      "metadata": {
        "id": "ilMaJumK4NYw",
        "pycharm": {
          "name": "#%%\n"
        }
      },
      "execution_count": 2,
      "outputs": []
    },
    {
      "cell_type": "code",
      "source": [
        "#!pip install -r /content/tf_skeleton/requirements.txt > /dev/null"
      ],
      "metadata": {
        "id": "OXB6FMV55aDu",
        "pycharm": {
          "name": "#%%\n"
        }
      },
      "execution_count": 3,
      "outputs": []
    },
    {
      "cell_type": "code",
      "execution_count": 4,
      "metadata": {
        "jupyter": {
          "outputs_hidden": false
        },
        "pycharm": {
          "is_executing": true,
          "name": "#%%\n"
        },
        "id": "Ml1hZoUn4BOo"
      },
      "outputs": [],
      "source": [
        "from pycocotools.coco import COCO\n",
        "import numpy as np\n",
        "import os.path\n",
        "from typing import Any, Callable, List, Optional, Tuple\n",
        "from PIL import Image\n",
        "import matplotlib\n",
        "import matplotlib.pyplot as plt\n",
        "import matplotlib.image as mpimg\n",
        "import os, json, cv2, numpy as np\n",
        "import matplotlib.pyplot as plt\n",
        "import pandas as pd\n",
        "import numpy as np\n",
        "import matplotlib.pyplot as plt\n",
        "import keras\n",
        "\n",
        "import tensorflow as tf\n",
        "\n",
        "from keras.models import Sequential\n",
        "\n",
        "from keras.layers import (\n",
        "    Flatten,\n",
        "    Dense,\n",
        "    Dropout,\n",
        "    Conv2D,\n",
        "    LeakyReLU,\n",
        "    BatchNormalization,\n",
        "    MaxPool2D,\n",
        "    GlobalAveragePooling2D,\n",
        ")\n",
        "from imgaug import augmenters as iaa\n",
        "import imgaug as ia\n",
        "import imageio\n",
        "from keras.applications import ResNet50\n",
        "from imgaug.augmentables.kps import Keypoint, KeypointsOnImage\n",
        "import math"
      ]
    },
    {
      "cell_type": "code",
      "execution_count": 5,
      "metadata": {
        "jupyter": {
          "outputs_hidden": false
        },
        "pycharm": {
          "is_executing": true,
          "name": "#%%\n"
        },
        "id": "bV-AwtlZ4BOq"
      },
      "outputs": [],
      "source": [
        "train_img_dir=\"/content/drive/MyDrive/Dataset/aspine20230930/image_train\"\n",
        "val_img_dir=\"/content/drive/MyDrive/Dataset/aspine20230930/image_val\"\n",
        "val_annotations_file=\"/content/drive/MyDrive/Dataset/aspine20230930/annotations/person_keypoints_Validation.json\"\n",
        "train_annotations_file=\"/content/drive/MyDrive/Dataset/aspine20230930/annotations/person_keypoints_Train.json\""
      ]
    },
    {
      "cell_type": "code",
      "source": [
        "class DataframeMaker():\n",
        "\n",
        "  def __init__(self,img_path,annotations_file, img_height, img_width):\n",
        "      self.img_path = img_path\n",
        "      self.coco = COCO(annotations_file)\n",
        "      self.imgIds = self.coco.getImgIds()\n",
        "      self.dataframe = None\n",
        "      self.__coco_build__()\n",
        "      self.img_height = img_height\n",
        "      self.img_width = img_width\n",
        "      if self.img_width and self.img_height:\n",
        "          self.resize_dataset()\n",
        "          print (\"image size has been set to %d x %d\" % (self.img_height, self.img_width))\n",
        "      else:\n",
        "          print (\"image keeps as original size\")\n",
        "\n",
        "  def __coco_build__(self):\n",
        "      \"\"\"\n",
        "      read annotation and build dataframe\n",
        "      :return:\n",
        "      \"\"\"\n",
        "      kps_metrix = []\n",
        "\n",
        "      for id in self.imgIds:\n",
        "\n",
        "        # load a image\n",
        "        img = self.coco.loadImgs(id)[0]\n",
        "        imgPath = img['file_name']\n",
        "\n",
        "        ann=self.coco.loadAnns(self.coco.getAnnIds(imgIds=img['id']))\n",
        "\n",
        "        keypoints_original = [[list(a) for a in zip(*[iter(ann[0]['keypoints'])]*3)]]\n",
        "\n",
        "        kps_row = []\n",
        "        for kp in keypoints_original:\n",
        "            for el in kp:\n",
        "                kps_row.extend(el[0:2])\n",
        "        kps_row.append(imgPath)\n",
        "\n",
        "        kps_metrix.append(kps_row)\n",
        "\n",
        "      df = pd.DataFrame(kps_metrix)\n",
        "\n",
        "      self.dataframe = df\n",
        "\n",
        "  def resize_dataset(self):\n",
        "    \"\"\"\n",
        "    :param img_height:\n",
        "    :param img_width:\n",
        "    :return:\n",
        "    \"\"\"\n",
        "    ts_kps_metrix = []\n",
        "    ts_image_list = []\n",
        "\n",
        "    for index, row in self.dataframe.iterrows():\n",
        "\n",
        "\n",
        "      image = row[-1:].item()\n",
        "      fullImgPath = os.path.join(self.img_path,image)\n",
        "      open_cv_image = np.array(Image.open(fullImgPath))\n",
        "\n",
        "      annotations = row[:32]\n",
        "      converted_keypoints = [list(a) for a in zip(*[iter(annotations)]*2)]\n",
        "\n",
        "      kps = [Keypoint(x=coodination[0], y=coodination[1]) for coodination in converted_keypoints]\n",
        "      kpsoi = KeypointsOnImage(kps, shape=open_cv_image.shape)\n",
        "\n",
        "      ia.seed(1)\n",
        "\n",
        "      seq = iaa.Sequential([\n",
        "          iaa.Resize({\"height\": self.img_height , \"width\": self.img_width})\n",
        "      ])\n",
        "\n",
        "      image_aug, kpsoi_aug = seq(image=open_cv_image, keypoints=kpsoi)\n",
        "\n",
        "      ts_kps_row = []\n",
        "\n",
        "      for i in range(len(kpsoi_aug.keypoints)):\n",
        "          after = kpsoi_aug.keypoints[i]\n",
        "          ts_kps_row.extend([after.x,after.y])\n",
        "\n",
        "      ts_kps_metrix.append(ts_kps_row)\n",
        "      ts_image_list.append(image_aug)\n",
        "\n",
        "    df = pd.DataFrame(ts_kps_metrix)\n",
        "\n",
        "    df['image'] = ts_image_list\n",
        "\n",
        "    self.dataframe = df\n",
        "\n",
        "class DataGenerator(tf.keras.utils.Sequence):\n",
        "\n",
        "  def __init__(self, dataframe, batch_size, arguement = False):\n",
        "      self.df = dataframe\n",
        "      self.batch_size = batch_size\n",
        "      self.argument = arguement\n",
        "\n",
        "  def __len__(self):\n",
        "      return math.ceil(len(self.df) / self.batch_size)\n",
        "\n",
        "  def __getitem__(self, idx):\n",
        "      low = idx * self.batch_size\n",
        "      # Cap upper bound at array length; the last batch may be smaller\n",
        "      # if the total number of items is not a multiple of batch size.\n",
        "      high = min(low + self.batch_size, len(self.df))\n",
        "      images = self.df.loc[low:high,'image']\n",
        "      annotations = self.df.loc[low:high,:31]\n",
        "      if self.argument:\n",
        "          return self.data_arguement(images,annotations)\n",
        "      else:\n",
        "          return np.stack(images), annotations\n",
        "\n",
        "  def data_arguement(self, images, annotations):\n",
        "\n",
        "      ia.seed(3)\n",
        "      seq = iaa.Sequential([\n",
        "                      iaa.SomeOf((0, 3), [\n",
        "                          iaa.Affine(scale={\"x\": (0.8, 1), \"y\": (0.8, 1)},\n",
        "                              rotate=(-10,10),\n",
        "                              shear=(-8,8)\n",
        "                              ),\n",
        "                      iaa.LinearContrast((0.4, 1.6)),\n",
        "                      iaa.GaussianBlur((0, 3.0)),\n",
        "                      ])\n",
        "                  ])\n",
        "\n",
        "      images_aug, points_aug = seq(images=images, keypoints=self.kpslist_to_tuple(annotations))\n",
        "      kps_list = self.kpstuple_to_list(points_aug)\n",
        "\n",
        "      return np.stack(images_aug), np.stack(kps_list)\n",
        "\n",
        "  def kpslist_to_tuple(self,annotations):\n",
        "      kpstuple = []\n",
        "\n",
        "      for index, row in annotations.iterrows():\n",
        "          converted_keypoints = [list(a) for a in zip(*[iter(row)]*2)]\n",
        "          kps = [Keypoint(x=coodination[0], y=coodination[1]) for coodination in converted_keypoints]\n",
        "          kpstuple.append(kps)\n",
        "\n",
        "      return kpstuple\n",
        "\n",
        "  def kpstuple_to_list(self,kps_tuple):\n",
        "      kpslist = []\n",
        "\n",
        "      for kpsoi in kps_tuple:\n",
        "          ts_kps_row = []\n",
        "          for i in range(len(kpsoi)):\n",
        "              # print(kpsoi_aug[i].is_out_of_image(image=images_aug[i]))\n",
        "              ts_kps_row.extend([kpsoi[i].x,kpsoi[i].y])\n",
        "          kpslist.append(ts_kps_row)\n",
        "\n",
        "      return kpslist"
      ],
      "metadata": {
        "id": "wSBjc8Ob875C"
      },
      "execution_count": 6,
      "outputs": []
    },
    {
      "cell_type": "code",
      "source": [
        "height = 1000\n",
        "width = 560\n",
        "\n",
        "val_df = DataframeMaker(val_img_dir,val_annotations_file,1000,560)\n",
        "train_df = DataframeMaker(train_img_dir,train_annotations_file,1000,560)"
      ],
      "metadata": {
        "colab": {
          "base_uri": "https://localhost:8080/"
        },
        "id": "VAdnr3br9A-0",
        "outputId": "27f39b6c-91ff-4791-deb0-53389a712033"
      },
      "execution_count": 7,
      "outputs": [
        {
          "output_type": "stream",
          "name": "stdout",
          "text": [
            "loading annotations into memory...\n",
            "Done (t=0.00s)\n",
            "creating index...\n",
            "index created!\n",
            "image size has been set to 1000 x 560\n",
            "loading annotations into memory...\n",
            "Done (t=0.01s)\n",
            "creating index...\n",
            "index created!\n",
            "image size has been set to 1000 x 560\n"
          ]
        }
      ]
    },
    {
      "cell_type": "code",
      "source": [
        "batch_size=12\n",
        "\n",
        "val_generator = DataGenerator(val_df.dataframe,batch_size,False)\n",
        "train_generator = DataGenerator(train_df.dataframe,batch_size,True)"
      ],
      "metadata": {
        "id": "nDbRDX1gLeBv"
      },
      "execution_count": 8,
      "outputs": []
    },
    {
      "cell_type": "code",
      "source": [
        "def show_image(image, kps, image_path):\n",
        "\n",
        "    fullImgPath = os.path.join(image_path,image)\n",
        "    open_cv_image = np.array(Image.open(fullImgPath))\n",
        "    converted_keypoints = [list(a) for a in zip(*[iter(kps)]*2)]\n",
        "\n",
        "    kps = [Keypoint(x=coodination[0], y=coodination[1]) for coodination in converted_keypoints]\n",
        "\n",
        "    kpsoi = KeypointsOnImage(kps, shape=open_cv_image.shape)\n",
        "\n",
        "    image_with_kps = kpsoi.draw_on_image(open_cv_image, size=15)\n",
        "\n",
        "    plt.imshow(image_with_kps)\n",
        "\n",
        "def show_tran_image(image, kps):\n",
        "\n",
        "    open_cv_image = np.array(image)\n",
        "    converted_keypoints = [list(a) for a in zip(*[iter(kps)]*2)]\n",
        "\n",
        "    kps = [Keypoint(x=coodination[0], y=coodination[1]) for coodination in converted_keypoints]\n",
        "\n",
        "    kpsoi = KeypointsOnImage(kps, shape=open_cv_image.shape)\n",
        "\n",
        "    image_with_kps = kpsoi.draw_on_image(open_cv_image, size=15)\n",
        "\n",
        "    plt.imshow(image_with_kps)"
      ],
      "metadata": {
        "id": "ZQHe4NHD9vvT"
      },
      "execution_count": 9,
      "outputs": []
    },
    {
      "cell_type": "markdown",
      "source": [
        "Visualize a simple image"
      ],
      "metadata": {
        "id": "WlVCyOIzcdDb"
      }
    },
    {
      "cell_type": "markdown",
      "source": [
        "Validation Dataset Sample"
      ],
      "metadata": {
        "id": "EI4Rmx1lMr4Y"
      }
    },
    {
      "cell_type": "code",
      "source": [
        "rand_number = np.random.randint(0,len(val_df.dataframe))\n",
        "print(rand_number)\n",
        "n = rand_number\n",
        "X, Y = val_df.dataframe.loc[n][-1:].item(),val_df.dataframe.loc[n][0:32],\n",
        "show_tran_image(X,Y)\n"
      ],
      "metadata": {
        "colab": {
          "base_uri": "https://localhost:8080/",
          "height": 452
        },
        "id": "GaIn7RX29mne",
        "outputId": "226e07e4-bccf-4c7d-baa2-22ba9b9ac4fc"
      },
      "execution_count": 10,
      "outputs": [
        {
          "output_type": "stream",
          "name": "stdout",
          "text": [
            "29\n"
          ]
        },
        {
          "output_type": "display_data",
          "data": {
            "text/plain": [
              "<Figure size 640x480 with 1 Axes>"
            ],
            "image/png": "[encoded data removed]"
          },
          "metadata": {}
        }
      ]
    },
    {
      "cell_type": "markdown",
      "source": [
        "Train Dataset Sample"
      ],
      "metadata": {
        "id": "gyHrLMIzMwW4"
      }
    },
    {
      "cell_type": "code",
      "source": [
        "X_batch, y_batch= next(train_generator.__iter__())\n",
        "y_batch.shape\n",
        "# rand_number = np.random.randint(0,batch_size)\n",
        "# print(rand_number)\n",
        "# n = rand_number\n",
        "# Y, X = y_batch[n-1][0:32], X_batch[n-1],\n",
        "# show_tran_image(X,Y)"
      ],
      "metadata": {
        "colab": {
          "base_uri": "https://localhost:8080/"
        },
        "id": "f_Rrb4NImMEB",
        "outputId": "48f3af05-8965-4094-ba0a-a3238b8db0a5"
      },
      "execution_count": 11,
      "outputs": [
        {
          "output_type": "execute_result",
          "data": {
            "text/plain": [
              "(13, 32)"
            ]
          },
          "metadata": {},
          "execution_count": 11
        }
      ]
    },
    {
      "cell_type": "code",
      "source": [
        "X_batch, y_batch= next(val_generator.__iter__())\n",
        "y_batch.shape"
      ],
      "metadata": {
        "id": "odMYDoomdQZT",
        "outputId": "b88a5bba-25f4-4580-e320-77dc4e499d20",
        "colab": {
          "base_uri": "https://localhost:8080/"
        }
      },
      "execution_count": 12,
      "outputs": [
        {
          "output_type": "execute_result",
          "data": {
            "text/plain": [
              "(13, 32)"
            ]
          },
          "metadata": {},
          "execution_count": 12
        }
      ]
    },
    {
      "cell_type": "code",
      "source": [
        "model = tf.keras.models.Sequential()\n",
        "pretrained_model = ResNet50(input_shape=(height,width,3), include_top=False)\n",
        "pretrained_model.trainable = True\n",
        "\n",
        "model.add(Conv2D(3, (1,1), padding='same', input_shape=(height,width,3)))\n",
        "model.add(LeakyReLU(alpha=0.1))\n",
        "model.add(pretrained_model)\n",
        "model.add(GlobalAveragePooling2D())\n",
        "model.add(Dense(units=256, activation='relu'))\n",
        "model.add(Dropout(0.2))\n",
        "model.add(Dense(32))\n",
        "model.summary()"
      ],
      "metadata": {
        "colab": {
          "base_uri": "https://localhost:8080/"
        },
        "id": "3DZpa19ipRkZ",
        "outputId": "ef458bd3-cf4b-4b60-d1d2-10d7c409ab48"
      },
      "execution_count": 13,
      "outputs": [
        {
          "output_type": "stream",
          "name": "stdout",
          "text": [
            "Model: \"sequential\"\n",
            "_________________________________________________________________\n",
            " Layer (type)                Output Shape              Param #   \n",
            "=================================================================\n",
            " conv2d (Conv2D)             (None, 1000, 560, 3)      12        \n",
            "                                                                 \n",
            " leaky_re_lu (LeakyReLU)     (None, 1000, 560, 3)      0         \n",
            "                                                                 \n",
            " resnet50 (Functional)       (None, 32, 18, 2048)      23587712  \n",
            "                                                                 \n",
            " global_average_pooling2d (  (None, 2048)              0         \n",
            " GlobalAveragePooling2D)                                         \n",
            "                                                                 \n",
            " dense (Dense)               (None, 256)               524544    \n",
            "                                                                 \n",
            " dropout (Dropout)           (None, 256)               0         \n",
            "                                                                 \n",
            " dense_1 (Dense)             (None, 32)                8224      \n",
            "                                                                 \n",
            "=================================================================\n",
            "Total params: 24120492 (92.01 MB)\n",
            "Trainable params: 24067372 (91.81 MB)\n",
            "Non-trainable params: 53120 (207.50 KB)\n",
            "_________________________________________________________________\n"
          ]
        }
      ]
    },
    {
      "cell_type": "code",
      "source": [
        "# tf.keras.utils.plot_model(model, show_shapes=True)"
      ],
      "metadata": {
        "id": "8fSo0P7ppbHI"
      },
      "execution_count": 14,
      "outputs": []
    },
    {
      "cell_type": "code",
      "source": [
        "model.compile(optimizer='adam',loss='mean_squared_error',metrics=['mae'])"
      ],
      "metadata": {
        "id": "8f8xHPW9pcqH"
      },
      "execution_count": 15,
      "outputs": []
    },
    {
      "cell_type": "code",
      "source": [
        "epoch_num = 50\n",
        "\n",
        "checkpoint_path = \"/content/drive/MyDrive/Dataset/aspine20231006.ckpt\"\n",
        "checkpoint_dir = os.path.dirname(checkpoint_path)\n",
        "\n",
        "model.load_weights(checkpoint_path)\n",
        "# Create a callback that saves the model's weights\n",
        "cp_callback = tf.keras.callbacks.ModelCheckpoint(filepath=checkpoint_path,\n",
        "                          save_freq=5,\n",
        "                          save_weights_only=True,\n",
        "                          verbose=1)\n",
        "\n",
        "history = model.fit_generator(generator=train_generator,\n",
        "                    validation_data=val_generator,\n",
        "                    epochs=epoch_num,\n",
        "                    callbacks=[cp_callback])\n"
      ],
      "metadata": {
        "colab": {
          "base_uri": "https://localhost:8080/",
          "height": 1000
        },
        "id": "JId2pxOfphb7",
        "outputId": "a94ff737-6db1-472c-b8a1-509a93b201d2"
      },
      "execution_count": 18,
      "outputs": [
        {
          "output_type": "stream",
          "name": "stdout",
          "text": [
            "Epoch 1/50\n"
          ]
        },
        {
          "output_type": "stream",
          "name": "stderr",
          "text": [
            "<ipython-input-18-35f600687148>:13: UserWarning: `Model.fit_generator` is deprecated and will be removed in a future version. Please use `Model.fit`, which supports generators.\n",
            "  history = model.fit_generator(generator=train_generator,\n"
          ]
        },
        {
          "output_type": "stream",
          "name": "stdout",
          "text": [
            " 4/16 [======>.......................] - ETA: 18s - loss: 1849.6830 - mae: 33.5913\n",
            "Epoch 1: saving model to /content/drive/MyDrive/Dataset/aspine20231006.ckpt\n",
            " 9/16 [===============>..............] - ETA: 11s - loss: 1804.3624 - mae: 32.9719\n",
            "Epoch 1: saving model to /content/drive/MyDrive/Dataset/aspine20231006.ckpt\n",
            "14/16 [=========================>....] - ETA: 3s - loss: 1809.0012 - mae: 33.1144\n",
            "Epoch 1: saving model to /content/drive/MyDrive/Dataset/aspine20231006.ckpt\n",
            "16/16 [==============================] - 34s 2s/step - loss: 1820.9464 - mae: 33.2994 - val_loss: 62746.7383 - val_mae: 229.5874\n",
            "Epoch 2/50\n",
            " 3/16 [====>.........................] - ETA: 20s - loss: 2067.4829 - mae: 35.3293\n",
            "Epoch 2: saving model to /content/drive/MyDrive/Dataset/aspine20231006.ckpt\n",
            " 8/16 [==============>...............] - ETA: 14s - loss: 1891.0990 - mae: 34.2499\n",
            "Epoch 2: saving model to /content/drive/MyDrive/Dataset/aspine20231006.ckpt\n",
            "13/16 [=======================>......] - ETA: 5s - loss: 1911.6692 - mae: 34.2866\n",
            "Epoch 2: saving model to /content/drive/MyDrive/Dataset/aspine20231006.ckpt\n",
            "16/16 [==============================] - 32s 2s/step - loss: 1944.1075 - mae: 34.4928 - val_loss: 21256.6152 - val_mae: 135.0286\n",
            "Epoch 3/50\n",
            " 2/16 [==>...........................] - ETA: 21s - loss: 1743.9390 - mae: 32.2399\n",
            "Epoch 3: saving model to /content/drive/MyDrive/Dataset/aspine20231006.ckpt\n",
            " 7/16 [============>.................] - ETA: 17s - loss: 1880.1194 - mae: 33.7695\n",
            "Epoch 3: saving model to /content/drive/MyDrive/Dataset/aspine20231006.ckpt\n",
            "12/16 [=====================>........] - ETA: 7s - loss: 2068.3782 - mae: 35.1619\n",
            "Epoch 3: saving model to /content/drive/MyDrive/Dataset/aspine20231006.ckpt\n",
            "16/16 [==============================] - 32s 2s/step - loss: 2026.0959 - mae: 34.8465 - val_loss: 13090.7588 - val_mae: 106.0957\n",
            "Epoch 4/50\n",
            " 1/16 [>.............................] - ETA: 24s - loss: 1963.7600 - mae: 33.5063\n",
            "Epoch 4: saving model to /content/drive/MyDrive/Dataset/aspine20231006.ckpt\n",
            " 6/16 [==========>...................] - ETA: 20s - loss: 1970.1807 - mae: 34.4110\n",
            "Epoch 4: saving model to /content/drive/MyDrive/Dataset/aspine20231006.ckpt\n",
            "11/16 [===================>..........] - ETA: 9s - loss: 2007.9799 - mae: 34.7090 \n",
            "Epoch 4: saving model to /content/drive/MyDrive/Dataset/aspine20231006.ckpt\n",
            "16/16 [==============================] - 32s 2s/step - loss: 2086.0505 - mae: 35.4061 - val_loss: 18900.4160 - val_mae: 127.1975\n",
            "Epoch 5/50\n",
            "\n",
            "Epoch 5: saving model to /content/drive/MyDrive/Dataset/aspine20231006.ckpt\n",
            " 2/16 [==>...........................] - ETA: 21s - loss: 2090.7888 - mae: 35.1183"
          ]
        },
        {
          "output_type": "error",
          "ename": "KeyboardInterrupt",
          "evalue": "ignored",
          "traceback": [
            "\u001b[0;31m---------------------------------------------------------------------------\u001b[0m",
            "\u001b[0;31mKeyboardInterrupt\u001b[0m                         Traceback (most recent call last)",
            "\u001b[0;32m<ipython-input-18-35f600687148>\u001b[0m in \u001b[0;36m<cell line: 13>\u001b[0;34m()\u001b[0m\n\u001b[1;32m     11\u001b[0m                           verbose=1)\n\u001b[1;32m     12\u001b[0m \u001b[0;34m\u001b[0m\u001b[0m\n\u001b[0;32m---> 13\u001b[0;31m history = model.fit_generator(generator=train_generator,\n\u001b[0m\u001b[1;32m     14\u001b[0m                     \u001b[0mvalidation_data\u001b[0m\u001b[0;34m=\u001b[0m\u001b[0mval_generator\u001b[0m\u001b[0;34m,\u001b[0m\u001b[0;34m\u001b[0m\u001b[0;34m\u001b[0m\u001b[0m\n\u001b[1;32m     15\u001b[0m                     \u001b[0mepochs\u001b[0m\u001b[0;34m=\u001b[0m\u001b[0mepoch_num\u001b[0m\u001b[0;34m,\u001b[0m\u001b[0;34m\u001b[0m\u001b[0;34m\u001b[0m\u001b[0m\n",
            "\u001b[0;32m/usr/local/lib/python3.10/dist-packages/keras/src/engine/training.py\u001b[0m in \u001b[0;36mfit_generator\u001b[0;34m(self, generator, steps_per_epoch, epochs, verbose, callbacks, validation_data, validation_steps, validation_freq, class_weight, max_queue_size, workers, use_multiprocessing, shuffle, initial_epoch)\u001b[0m\n\u001b[1;32m   2808\u001b[0m             \u001b[0mstacklevel\u001b[0m\u001b[0;34m=\u001b[0m\u001b[0;36m2\u001b[0m\u001b[0;34m,\u001b[0m\u001b[0;34m\u001b[0m\u001b[0;34m\u001b[0m\u001b[0m\n\u001b[1;32m   2809\u001b[0m         )\n\u001b[0;32m-> 2810\u001b[0;31m         return self.fit(\n\u001b[0m\u001b[1;32m   2811\u001b[0m             \u001b[0mgenerator\u001b[0m\u001b[0;34m,\u001b[0m\u001b[0;34m\u001b[0m\u001b[0;34m\u001b[0m\u001b[0m\n\u001b[1;32m   2812\u001b[0m             \u001b[0msteps_per_epoch\u001b[0m\u001b[0;34m=\u001b[0m\u001b[0msteps_per_epoch\u001b[0m\u001b[0;34m,\u001b[0m\u001b[0;34m\u001b[0m\u001b[0;34m\u001b[0m\u001b[0m\n",
            "\u001b[0;32m/usr/local/lib/python3.10/dist-packages/keras/src/utils/traceback_utils.py\u001b[0m in \u001b[0;36merror_handler\u001b[0;34m(*args, **kwargs)\u001b[0m\n\u001b[1;32m     63\u001b[0m         \u001b[0mfiltered_tb\u001b[0m \u001b[0;34m=\u001b[0m \u001b[0;32mNone\u001b[0m\u001b[0;34m\u001b[0m\u001b[0;34m\u001b[0m\u001b[0m\n\u001b[1;32m     64\u001b[0m         \u001b[0;32mtry\u001b[0m\u001b[0;34m:\u001b[0m\u001b[0;34m\u001b[0m\u001b[0;34m\u001b[0m\u001b[0m\n\u001b[0;32m---> 65\u001b[0;31m             \u001b[0;32mreturn\u001b[0m \u001b[0mfn\u001b[0m\u001b[0;34m(\u001b[0m\u001b[0;34m*\u001b[0m\u001b[0margs\u001b[0m\u001b[0;34m,\u001b[0m \u001b[0;34m**\u001b[0m\u001b[0mkwargs\u001b[0m\u001b[0;34m)\u001b[0m\u001b[0;34m\u001b[0m\u001b[0;34m\u001b[0m\u001b[0m\n\u001b[0m\u001b[1;32m     66\u001b[0m         \u001b[0;32mexcept\u001b[0m \u001b[0mException\u001b[0m \u001b[0;32mas\u001b[0m \u001b[0me\u001b[0m\u001b[0;34m:\u001b[0m\u001b[0;34m\u001b[0m\u001b[0;34m\u001b[0m\u001b[0m\n\u001b[1;32m     67\u001b[0m             \u001b[0mfiltered_tb\u001b[0m \u001b[0;34m=\u001b[0m \u001b[0m_process_traceback_frames\u001b[0m\u001b[0;34m(\u001b[0m\u001b[0me\u001b[0m\u001b[0;34m.\u001b[0m\u001b[0m__traceback__\u001b[0m\u001b[0;34m)\u001b[0m\u001b[0;34m\u001b[0m\u001b[0;34m\u001b[0m\u001b[0m\n",
            "\u001b[0;32m/usr/local/lib/python3.10/dist-packages/keras/src/engine/training.py\u001b[0m in \u001b[0;36mfit\u001b[0;34m(self, x, y, batch_size, epochs, verbose, callbacks, validation_split, validation_data, shuffle, class_weight, sample_weight, initial_epoch, steps_per_epoch, validation_steps, validation_batch_size, validation_freq, max_queue_size, workers, use_multiprocessing)\u001b[0m\n\u001b[1;32m   1740\u001b[0m                         ):\n\u001b[1;32m   1741\u001b[0m                             \u001b[0mcallbacks\u001b[0m\u001b[0;34m.\u001b[0m\u001b[0mon_train_batch_begin\u001b[0m\u001b[0;34m(\u001b[0m\u001b[0mstep\u001b[0m\u001b[0;34m)\u001b[0m\u001b[0;34m\u001b[0m\u001b[0;34m\u001b[0m\u001b[0m\n\u001b[0;32m-> 1742\u001b[0;31m                             \u001b[0mtmp_logs\u001b[0m \u001b[0;34m=\u001b[0m \u001b[0mself\u001b[0m\u001b[0;34m.\u001b[0m\u001b[0mtrain_function\u001b[0m\u001b[0;34m(\u001b[0m\u001b[0miterator\u001b[0m\u001b[0;34m)\u001b[0m\u001b[0;34m\u001b[0m\u001b[0;34m\u001b[0m\u001b[0m\n\u001b[0m\u001b[1;32m   1743\u001b[0m                             \u001b[0;32mif\u001b[0m \u001b[0mdata_handler\u001b[0m\u001b[0;34m.\u001b[0m\u001b[0mshould_sync\u001b[0m\u001b[0;34m:\u001b[0m\u001b[0;34m\u001b[0m\u001b[0;34m\u001b[0m\u001b[0m\n\u001b[1;32m   1744\u001b[0m                                 \u001b[0mcontext\u001b[0m\u001b[0;34m.\u001b[0m\u001b[0masync_wait\u001b[0m\u001b[0;34m(\u001b[0m\u001b[0;34m)\u001b[0m\u001b[0;34m\u001b[0m\u001b[0;34m\u001b[0m\u001b[0m\n",
            "\u001b[0;32m/usr/local/lib/python3.10/dist-packages/tensorflow/python/util/traceback_utils.py\u001b[0m in \u001b[0;36merror_handler\u001b[0;34m(*args, **kwargs)\u001b[0m\n\u001b[1;32m    148\u001b[0m     \u001b[0mfiltered_tb\u001b[0m \u001b[0;34m=\u001b[0m \u001b[0;32mNone\u001b[0m\u001b[0;34m\u001b[0m\u001b[0;34m\u001b[0m\u001b[0m\n\u001b[1;32m    149\u001b[0m     \u001b[0;32mtry\u001b[0m\u001b[0;34m:\u001b[0m\u001b[0;34m\u001b[0m\u001b[0;34m\u001b[0m\u001b[0m\n\u001b[0;32m--> 150\u001b[0;31m       \u001b[0;32mreturn\u001b[0m \u001b[0mfn\u001b[0m\u001b[0;34m(\u001b[0m\u001b[0;34m*\u001b[0m\u001b[0margs\u001b[0m\u001b[0;34m,\u001b[0m \u001b[0;34m**\u001b[0m\u001b[0mkwargs\u001b[0m\u001b[0;34m)\u001b[0m\u001b[0;34m\u001b[0m\u001b[0;34m\u001b[0m\u001b[0m\n\u001b[0m\u001b[1;32m    151\u001b[0m     \u001b[0;32mexcept\u001b[0m \u001b[0mException\u001b[0m \u001b[0;32mas\u001b[0m \u001b[0me\u001b[0m\u001b[0;34m:\u001b[0m\u001b[0;34m\u001b[0m\u001b[0;34m\u001b[0m\u001b[0m\n\u001b[1;32m    152\u001b[0m       \u001b[0mfiltered_tb\u001b[0m \u001b[0;34m=\u001b[0m \u001b[0m_process_traceback_frames\u001b[0m\u001b[0;34m(\u001b[0m\u001b[0me\u001b[0m\u001b[0;34m.\u001b[0m\u001b[0m__traceback__\u001b[0m\u001b[0;34m)\u001b[0m\u001b[0;34m\u001b[0m\u001b[0;34m\u001b[0m\u001b[0m\n",
            "\u001b[0;32m/usr/local/lib/python3.10/dist-packages/tensorflow/python/eager/polymorphic_function/polymorphic_function.py\u001b[0m in \u001b[0;36m__call__\u001b[0;34m(self, *args, **kwds)\u001b[0m\n\u001b[1;32m    823\u001b[0m \u001b[0;34m\u001b[0m\u001b[0m\n\u001b[1;32m    824\u001b[0m       \u001b[0;32mwith\u001b[0m \u001b[0mOptionalXlaContext\u001b[0m\u001b[0;34m(\u001b[0m\u001b[0mself\u001b[0m\u001b[0;34m.\u001b[0m\u001b[0m_jit_compile\u001b[0m\u001b[0;34m)\u001b[0m\u001b[0;34m:\u001b[0m\u001b[0;34m\u001b[0m\u001b[0;34m\u001b[0m\u001b[0m\n\u001b[0;32m--> 825\u001b[0;31m         \u001b[0mresult\u001b[0m \u001b[0;34m=\u001b[0m \u001b[0mself\u001b[0m\u001b[0;34m.\u001b[0m\u001b[0m_call\u001b[0m\u001b[0;34m(\u001b[0m\u001b[0;34m*\u001b[0m\u001b[0margs\u001b[0m\u001b[0;34m,\u001b[0m \u001b[0;34m**\u001b[0m\u001b[0mkwds\u001b[0m\u001b[0;34m)\u001b[0m\u001b[0;34m\u001b[0m\u001b[0;34m\u001b[0m\u001b[0m\n\u001b[0m\u001b[1;32m    826\u001b[0m \u001b[0;34m\u001b[0m\u001b[0m\n\u001b[1;32m    827\u001b[0m       \u001b[0mnew_tracing_count\u001b[0m \u001b[0;34m=\u001b[0m \u001b[0mself\u001b[0m\u001b[0;34m.\u001b[0m\u001b[0mexperimental_get_tracing_count\u001b[0m\u001b[0;34m(\u001b[0m\u001b[0;34m)\u001b[0m\u001b[0;34m\u001b[0m\u001b[0;34m\u001b[0m\u001b[0m\n",
            "\u001b[0;32m/usr/local/lib/python3.10/dist-packages/tensorflow/python/eager/polymorphic_function/polymorphic_function.py\u001b[0m in \u001b[0;36m_call\u001b[0;34m(self, *args, **kwds)\u001b[0m\n\u001b[1;32m    855\u001b[0m       \u001b[0;31m# In this case we have created variables on the first call, so we run the\u001b[0m\u001b[0;34m\u001b[0m\u001b[0;34m\u001b[0m\u001b[0m\n\u001b[1;32m    856\u001b[0m       \u001b[0;31m# defunned version which is guaranteed to never create variables.\u001b[0m\u001b[0;34m\u001b[0m\u001b[0;34m\u001b[0m\u001b[0m\n\u001b[0;32m--> 857\u001b[0;31m       \u001b[0;32mreturn\u001b[0m \u001b[0mself\u001b[0m\u001b[0;34m.\u001b[0m\u001b[0m_no_variable_creation_fn\u001b[0m\u001b[0;34m(\u001b[0m\u001b[0;34m*\u001b[0m\u001b[0margs\u001b[0m\u001b[0;34m,\u001b[0m \u001b[0;34m**\u001b[0m\u001b[0mkwds\u001b[0m\u001b[0;34m)\u001b[0m  \u001b[0;31m# pylint: disable=not-callable\u001b[0m\u001b[0;34m\u001b[0m\u001b[0;34m\u001b[0m\u001b[0m\n\u001b[0m\u001b[1;32m    858\u001b[0m     \u001b[0;32melif\u001b[0m \u001b[0mself\u001b[0m\u001b[0;34m.\u001b[0m\u001b[0m_variable_creation_fn\u001b[0m \u001b[0;32mis\u001b[0m \u001b[0;32mnot\u001b[0m \u001b[0;32mNone\u001b[0m\u001b[0;34m:\u001b[0m\u001b[0;34m\u001b[0m\u001b[0;34m\u001b[0m\u001b[0m\n\u001b[1;32m    859\u001b[0m       \u001b[0;31m# Release the lock early so that multiple threads can perform the call\u001b[0m\u001b[0;34m\u001b[0m\u001b[0;34m\u001b[0m\u001b[0m\n",
            "\u001b[0;32m/usr/local/lib/python3.10/dist-packages/tensorflow/python/eager/polymorphic_function/tracing_compiler.py\u001b[0m in \u001b[0;36m__call__\u001b[0;34m(self, *args, **kwargs)\u001b[0m\n\u001b[1;32m    146\u001b[0m       (concrete_function,\n\u001b[1;32m    147\u001b[0m        filtered_flat_args) = self._maybe_define_function(args, kwargs)\n\u001b[0;32m--> 148\u001b[0;31m     return concrete_function._call_flat(\n\u001b[0m\u001b[1;32m    149\u001b[0m         filtered_flat_args, captured_inputs=concrete_function.captured_inputs)  # pylint: disable=protected-access\n\u001b[1;32m    150\u001b[0m \u001b[0;34m\u001b[0m\u001b[0m\n",
            "\u001b[0;32m/usr/local/lib/python3.10/dist-packages/tensorflow/python/eager/polymorphic_function/monomorphic_function.py\u001b[0m in \u001b[0;36m_call_flat\u001b[0;34m(self, args, captured_inputs)\u001b[0m\n\u001b[1;32m   1347\u001b[0m         and executing_eagerly):\n\u001b[1;32m   1348\u001b[0m       \u001b[0;31m# No tape is watching; skip to running the function.\u001b[0m\u001b[0;34m\u001b[0m\u001b[0;34m\u001b[0m\u001b[0m\n\u001b[0;32m-> 1349\u001b[0;31m       \u001b[0;32mreturn\u001b[0m \u001b[0mself\u001b[0m\u001b[0;34m.\u001b[0m\u001b[0m_build_call_outputs\u001b[0m\u001b[0;34m(\u001b[0m\u001b[0mself\u001b[0m\u001b[0;34m.\u001b[0m\u001b[0m_inference_function\u001b[0m\u001b[0;34m(\u001b[0m\u001b[0;34m*\u001b[0m\u001b[0margs\u001b[0m\u001b[0;34m)\u001b[0m\u001b[0;34m)\u001b[0m\u001b[0;34m\u001b[0m\u001b[0;34m\u001b[0m\u001b[0m\n\u001b[0m\u001b[1;32m   1350\u001b[0m     forward_backward = self._select_forward_and_backward_functions(\n\u001b[1;32m   1351\u001b[0m         \u001b[0margs\u001b[0m\u001b[0;34m,\u001b[0m\u001b[0;34m\u001b[0m\u001b[0;34m\u001b[0m\u001b[0m\n",
            "\u001b[0;32m/usr/local/lib/python3.10/dist-packages/tensorflow/python/eager/polymorphic_function/atomic_function.py\u001b[0m in \u001b[0;36m__call__\u001b[0;34m(self, *args)\u001b[0m\n\u001b[1;32m    194\u001b[0m         \u001b[0;32mwith\u001b[0m \u001b[0mrecord\u001b[0m\u001b[0;34m.\u001b[0m\u001b[0mstop_recording\u001b[0m\u001b[0;34m(\u001b[0m\u001b[0;34m)\u001b[0m\u001b[0;34m:\u001b[0m\u001b[0;34m\u001b[0m\u001b[0;34m\u001b[0m\u001b[0m\n\u001b[1;32m    195\u001b[0m           \u001b[0;32mif\u001b[0m \u001b[0mself\u001b[0m\u001b[0;34m.\u001b[0m\u001b[0m_bound_context\u001b[0m\u001b[0;34m.\u001b[0m\u001b[0mexecuting_eagerly\u001b[0m\u001b[0;34m(\u001b[0m\u001b[0;34m)\u001b[0m\u001b[0;34m:\u001b[0m\u001b[0;34m\u001b[0m\u001b[0;34m\u001b[0m\u001b[0m\n\u001b[0;32m--> 196\u001b[0;31m             outputs = self._bound_context.call_function(\n\u001b[0m\u001b[1;32m    197\u001b[0m                 \u001b[0mself\u001b[0m\u001b[0;34m.\u001b[0m\u001b[0mname\u001b[0m\u001b[0;34m,\u001b[0m\u001b[0;34m\u001b[0m\u001b[0;34m\u001b[0m\u001b[0m\n\u001b[1;32m    198\u001b[0m                 \u001b[0mlist\u001b[0m\u001b[0;34m(\u001b[0m\u001b[0margs\u001b[0m\u001b[0;34m)\u001b[0m\u001b[0;34m,\u001b[0m\u001b[0;34m\u001b[0m\u001b[0;34m\u001b[0m\u001b[0m\n",
            "\u001b[0;32m/usr/local/lib/python3.10/dist-packages/tensorflow/python/eager/context.py\u001b[0m in \u001b[0;36mcall_function\u001b[0;34m(self, name, tensor_inputs, num_outputs)\u001b[0m\n\u001b[1;32m   1455\u001b[0m     \u001b[0mcancellation_context\u001b[0m \u001b[0;34m=\u001b[0m \u001b[0mcancellation\u001b[0m\u001b[0;34m.\u001b[0m\u001b[0mcontext\u001b[0m\u001b[0;34m(\u001b[0m\u001b[0;34m)\u001b[0m\u001b[0;34m\u001b[0m\u001b[0;34m\u001b[0m\u001b[0m\n\u001b[1;32m   1456\u001b[0m     \u001b[0;32mif\u001b[0m \u001b[0mcancellation_context\u001b[0m \u001b[0;32mis\u001b[0m \u001b[0;32mNone\u001b[0m\u001b[0;34m:\u001b[0m\u001b[0;34m\u001b[0m\u001b[0;34m\u001b[0m\u001b[0m\n\u001b[0;32m-> 1457\u001b[0;31m       outputs = execute.execute(\n\u001b[0m\u001b[1;32m   1458\u001b[0m           \u001b[0mname\u001b[0m\u001b[0;34m.\u001b[0m\u001b[0mdecode\u001b[0m\u001b[0;34m(\u001b[0m\u001b[0;34m\"utf-8\"\u001b[0m\u001b[0;34m)\u001b[0m\u001b[0;34m,\u001b[0m\u001b[0;34m\u001b[0m\u001b[0;34m\u001b[0m\u001b[0m\n\u001b[1;32m   1459\u001b[0m           \u001b[0mnum_outputs\u001b[0m\u001b[0;34m=\u001b[0m\u001b[0mnum_outputs\u001b[0m\u001b[0;34m,\u001b[0m\u001b[0;34m\u001b[0m\u001b[0;34m\u001b[0m\u001b[0m\n",
            "\u001b[0;32m/usr/local/lib/python3.10/dist-packages/tensorflow/python/eager/execute.py\u001b[0m in \u001b[0;36mquick_execute\u001b[0;34m(op_name, num_outputs, inputs, attrs, ctx, name)\u001b[0m\n\u001b[1;32m     51\u001b[0m   \u001b[0;32mtry\u001b[0m\u001b[0;34m:\u001b[0m\u001b[0;34m\u001b[0m\u001b[0;34m\u001b[0m\u001b[0m\n\u001b[1;32m     52\u001b[0m     \u001b[0mctx\u001b[0m\u001b[0;34m.\u001b[0m\u001b[0mensure_initialized\u001b[0m\u001b[0;34m(\u001b[0m\u001b[0;34m)\u001b[0m\u001b[0;34m\u001b[0m\u001b[0;34m\u001b[0m\u001b[0m\n\u001b[0;32m---> 53\u001b[0;31m     tensors = pywrap_tfe.TFE_Py_Execute(ctx._handle, device_name, op_name,\n\u001b[0m\u001b[1;32m     54\u001b[0m                                         inputs, attrs, num_outputs)\n\u001b[1;32m     55\u001b[0m   \u001b[0;32mexcept\u001b[0m \u001b[0mcore\u001b[0m\u001b[0;34m.\u001b[0m\u001b[0m_NotOkStatusException\u001b[0m \u001b[0;32mas\u001b[0m \u001b[0me\u001b[0m\u001b[0;34m:\u001b[0m\u001b[0;34m\u001b[0m\u001b[0;34m\u001b[0m\u001b[0m\n",
            "\u001b[0;31mKeyboardInterrupt\u001b[0m: "
          ]
        }
      ]
    },
    {
      "cell_type": "code",
      "source": [
        "mae = history.history['mae']\n",
        "val_mae = history.history['val_mae']\n",
        "loss = history.history['loss']\n",
        "val_loss = history.history['val_loss']\n",
        "\n",
        "epochs = range(1, len(mae) + 1)\n",
        "\n",
        "plt.plot(epochs, mae, 'bo', label='Training mae')\n",
        "plt.plot(epochs, val_mae, 'b', label='Validation mae')\n",
        "plt.title('Training and validation mae')\n",
        "plt.legend()\n",
        "\n",
        "plt.figure()\n",
        "\n",
        "plt.plot(epochs, loss, 'bo', label='Training loss')\n",
        "plt.plot(epochs, val_loss, 'b', label='Validation loss')\n",
        "plt.title('Training and validation loss')\n",
        "plt.legend()\n",
        "\n",
        "plt.show()"
      ],
      "metadata": {
        "id": "vq6_CEiOexHF"
      },
      "execution_count": null,
      "outputs": []
    },
    {
      "cell_type": "code",
      "source": [
        "X_batch, y_batch= next(val_generator.__iter__())\n",
        "predictions = model.predict(X_batch)"
      ],
      "metadata": {
        "id": "FfCFjJTH9mRq"
      },
      "execution_count": null,
      "outputs": []
    },
    {
      "cell_type": "code",
      "source": [
        "index = np.random.randint(0,len(X_batch))\n",
        "X, Y = X_batch[index], predictions[index]\n",
        "show_tran_image(X,Y)"
      ],
      "metadata": {
        "id": "HPGI5fVVQ8kd"
      },
      "execution_count": null,
      "outputs": []
    },
    {
      "cell_type": "code",
      "source": [],
      "metadata": {
        "id": "x8oTPNLCca8c"
      },
      "execution_count": null,
      "outputs": []
    }
  ],
  "metadata": {
    "kernelspec": {
      "display_name": "Python 3",
      "name": "python3"
    },
    "language_info": {
      "codemirror_mode": {
        "name": "ipython",
        "version": 3
      },
      "file_extension": ".py",
      "mimetype": "text/x-python",
      "name": "python",
      "nbconvert_exporter": "python",
      "pygments_lexer": "ipython3",
      "version": "3.8.10"
    },
    "colab": {
      "provenance": [],
      "toc_visible": true,
      "gpuType": "T4",
      "include_colab_link": true
    },
    "accelerator": "GPU"
  },
  "nbformat": 4,
  "nbformat_minor": 0
}