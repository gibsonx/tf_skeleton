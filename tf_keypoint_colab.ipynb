{
  "cells": [
    {
      "cell_type": "markdown",
      "metadata": {
        "id": "view-in-github",
        "colab_type": "text"
      },
      "source": [
        "<a href=\"https://colab.research.google.com/github/gibsonx/tf_skeleton/blob/master/tf_keypoint_colab.ipynb\" target=\"_parent\"><img src=\"https://colab.research.google.com/assets/colab-badge.svg\" alt=\"Open In Colab\"/></a>"
      ]
    },
    {
      "cell_type": "code",
      "source": [
        "from google.colab import drive\n",
        "drive.mount('/content/drive')"
      ],
      "metadata": {
        "id": "bVmURZAl5rq0",
        "pycharm": {
          "name": "#%%\n"
        },
        "outputId": "5dc53d1f-a124-4522-b672-6d2b86d35f87",
        "colab": {
          "base_uri": "https://localhost:8080/"
        }
      },
      "execution_count": 1,
      "outputs": [
        {
          "output_type": "stream",
          "name": "stdout",
          "text": [
            "Drive already mounted at /content/drive; to attempt to forcibly remount, call drive.mount(\"/content/drive\", force_remount=True).\n"
          ]
        }
      ]
    },
    {
      "cell_type": "code",
      "source": [
        "!git clone https://github.com/gibsonx/tf_skeleton.git"
      ],
      "metadata": {
        "id": "ilMaJumK4NYw",
        "outputId": "beae91cb-3ccf-4f97-8407-43a21a73424d",
        "colab": {
          "base_uri": "https://localhost:8080/"
        },
        "pycharm": {
          "name": "#%%\n"
        }
      },
      "execution_count": null,
      "outputs": [
        {
          "output_type": "stream",
          "name": "stdout",
          "text": [
            "fatal: destination path 'tf_skeleton' already exists and is not an empty directory.\n"
          ]
        }
      ]
    },
    {
      "cell_type": "code",
      "source": [
        "!pip install -r /content/tf_skeleton/requirements.txt > /dev/null"
      ],
      "metadata": {
        "id": "OXB6FMV55aDu",
        "pycharm": {
          "name": "#%%\n"
        }
      },
      "execution_count": null,
      "outputs": []
    },
    {
      "cell_type": "code",
      "execution_count": 2,
      "metadata": {
        "jupyter": {
          "outputs_hidden": false
        },
        "pycharm": {
          "is_executing": true,
          "name": "#%%\n"
        },
        "id": "Ml1hZoUn4BOo"
      },
      "outputs": [],
      "source": [
        "from pycocotools.coco import COCO\n",
        "import numpy as np\n",
        "import os.path\n",
        "from typing import Any, Callable, List, Optional, Tuple\n",
        "from PIL import Image\n",
        "import matplotlib\n",
        "import matplotlib.pyplot as plt\n",
        "import matplotlib.image as mpimg\n",
        "import os, json, cv2, numpy as np\n",
        "import matplotlib.pyplot as plt\n",
        "import pandas as pd\n",
        "import numpy as np\n",
        "import matplotlib.pyplot as plt\n",
        "\n",
        "import tensorflow as tf\n",
        "\n",
        "from keras.models import Sequential\n",
        "\n",
        "from keras.layers import (\n",
        "    Flatten,\n",
        "    Dense,\n",
        "    Dropout,\n",
        "    Conv2D,\n",
        "    LeakyReLU,\n",
        "    BatchNormalization,\n",
        "    MaxPool2D,\n",
        ")\n",
        "from imgaug import augmenters as iaa\n",
        "import imgaug as ia\n",
        "import imageio\n",
        "\n",
        "from imgaug.augmentables.kps import Keypoint, KeypointsOnImage"
      ]
    },
    {
      "cell_type": "code",
      "execution_count": 4,
      "metadata": {
        "jupyter": {
          "outputs_hidden": false
        },
        "pycharm": {
          "is_executing": true,
          "name": "#%%\n"
        },
        "id": "bV-AwtlZ4BOq"
      },
      "outputs": [],
      "source": [
        "img_dir=\"/content/drive/MyDrive/Dataset/aspine202030604/images\"\n",
        "annotations_file=\"/content/drive/MyDrive/Dataset/aspine202030604/annotations/person_keypoints_Train.json\""
      ]
    },
    {
      "cell_type": "code",
      "execution_count": 5,
      "metadata": {
        "jupyter": {
          "outputs_hidden": false
        },
        "pycharm": {
          "name": "#%%\n"
        },
        "id": "62F-a28a4BOr",
        "outputId": "b17ecc5b-e048-44c7-a9ca-1862746bdca0",
        "colab": {
          "base_uri": "https://localhost:8080/"
        }
      },
      "outputs": [
        {
          "output_type": "stream",
          "name": "stdout",
          "text": [
            "loading annotations into memory...\n",
            "Done (t=0.01s)\n",
            "creating index...\n",
            "index created!\n"
          ]
        }
      ],
      "source": [
        "coco=COCO(annotations_file)\n",
        "imgIds = coco.getImgIds()"
      ]
    },
    {
      "cell_type": "code",
      "source": [
        "kps_metrix = []\n",
        "image_list = []\n",
        "\n",
        "for id in imgIds:\n",
        "    img = coco.loadImgs(id)[0]\n",
        "    imgPath = os.path.join(img_dir,img['file_name'])\n",
        "    image_list.append(Image.open(imgPath))\n",
        "\n",
        "    # load annotations\n",
        "    ann=coco.loadAnns(coco.getAnnIds(imgIds=img['id']))\n",
        "    keypoints_original = [[list(a) for a in zip(*[iter(ann[0]['keypoints'])]*3)]]\n",
        "    kps_row = []\n",
        "    for kp in keypoints_original:\n",
        "        for el in kp:\n",
        "            kps_row.extend(el[0:2])\n",
        "\n",
        "    kps_metrix.append(kps_row)\n",
        "\n",
        "df = pd.DataFrame(kps_metrix)\n",
        "\n",
        "image_array_list = [np.array(img) for img in image_list]\n",
        "df['image'] = image_array_list\n"
      ],
      "metadata": {
        "id": "cmpAquPBIqqk"
      },
      "execution_count": 6,
      "outputs": []
    },
    {
      "cell_type": "code",
      "execution_count": null,
      "metadata": {
        "jupyter": {
          "outputs_hidden": false
        },
        "pycharm": {
          "name": "#%%\n"
        },
        "id": "OlFH2tX14BOu"
      },
      "outputs": [],
      "source": [
        "keypoints_classes_ids2names = {0: '1', 1: '2', 2: '3', 3: '4', 4: '5', 5: '6', 6: '7', 7: '8', 8: '9', 9: '10', 10: '11', 11: '12', 12: '13', 13: '14', 14: '15', 15: '16'}\n",
        "\n",
        "def CoupeToInt(coupe: List[float]) -> List[int]:\n",
        "    return list(map(int, coupe))\n",
        "\n",
        "def visualize(array, keypoints):\n",
        "\n",
        "    # image = Image.fromarray(array)\n",
        "\n",
        "    open_cv_image = np.array(array)\n",
        "    image = open_cv_image[:, :, ::-1].copy()\n",
        "    # image = cv2.cvtColor(image, cv2.COLOR_RGB2BGR)\n",
        "\n",
        "    converted_keypoints = [CoupeToInt(list(a)) for a in zip(*[iter(keypoints)]*2)]\n",
        "\n",
        "    for idx, kp in enumerate(converted_keypoints):\n",
        "        image = cv2.putText(image.copy(), \"\" + keypoints_classes_ids2names[idx], tuple(kp), cv2.FONT_HERSHEY_PLAIN, 2, (32,253,0), 3, cv2.LINE_AA)\n",
        "        image = cv2.circle(image.copy(), tuple(kp), 5, (255,0,0), 10)\n",
        "\n",
        "    plt.figure(figsize=(25,25))\n",
        "    plt.imshow(image)\n",
        "    plt.show()"
      ]
    },
    {
      "cell_type": "code",
      "execution_count": 7,
      "metadata": {
        "jupyter": {
          "outputs_hidden": false
        },
        "pycharm": {
          "name": "#%%\n"
        },
        "id": "WiesMoGS4BOu"
      },
      "outputs": [],
      "source": [
        "rand_number = np.random.randint(0,len(imgIds))\n",
        "simple_row = df.iloc[rand_number]\n",
        "image = simple_row['image']\n",
        "annotations = simple_row[:31]"
      ]
    },
    {
      "cell_type": "code",
      "source": [
        "open_cv_image = np.array(image)\n",
        "converted_keypoints = [list(a) for a in zip(*[iter(annotations)]*2)]\n",
        "\n",
        "kps = [Keypoint(x=coodination[0], y=coodination[1]) for coodination in converted_keypoints ]\n",
        "kpsoi = KeypointsOnImage(kps, shape=open_cv_image.shape)\n",
        "\n",
        "image_with_kps = kpsoi.draw_on_image(open_cv_image, size=15)\n",
        "\n",
        "ia.seed(1)\n",
        "\n",
        "seq = iaa.Sequential([\n",
        "    iaa.Resize({\"height\": 1024, \"width\": 560})\n",
        "])\n",
        "\n",
        "image_aug, kpsoi_aug = seq(image=image, keypoints=kpsoi)\n",
        "\n",
        "for i in range(len(kpsoi.keypoints)):\n",
        "    before = kpsoi.keypoints[i]\n",
        "    after = kpsoi_aug.keypoints[i]\n",
        "    print(\"Keypoint %d: (%.8f, %.8f) -> (%.8f, %.8f)\" % (\n",
        "        i, before.x, before.y, after.x, after.y)\n",
        "    )\n",
        "image_after = kpsoi_aug.draw_on_image(image_aug, size=15)\n",
        "\n",
        "plt.imshow(image_after )"
      ],
      "metadata": {
        "id": "WuciaoZrJHDJ",
        "outputId": "32a04795-4cb7-44c9-c973-5465fa4c8766",
        "colab": {
          "base_uri": "https://localhost:8080/",
          "height": 713
        }
      },
      "execution_count": 10,
      "outputs": [
        {
          "output_type": "stream",
          "name": "stdout",
          "text": [
            "Keypoint 0: (381.59000000, 1479.18000000) -> (180.48175049, 717.17822266)\n",
            "Keypoint 1: (822.96000000, 1466.55000000) -> (389.23785400, 711.05456543)\n",
            "Keypoint 2: (269.86000000, 1598.89000000) -> (127.63648224, 775.21942139)\n",
            "Keypoint 3: (924.45000000, 1598.47000000) -> (437.23986816, 775.01574707)\n",
            "Keypoint 4: (508.79000000, 1585.66000000) -> (240.64392090, 768.80487061)\n",
            "Keypoint 5: (688.60000000, 1587.67000000) -> (325.68914795, 769.77941895)\n",
            "Keypoint 6: (445.94000000, 1537.25000000) -> (210.91755676, 745.33331299)\n",
            "Keypoint 7: (752.74000000, 1535.92000000) -> (356.02566528, 744.68847656)\n",
            "Keypoint 8: (598.74000000, 1583.28000000) -> (283.18783569, 767.65093994)\n",
            "Keypoint 9: (386.69000000, 1802.44000000) -> (182.89392090, 873.91027832)\n",
            "Keypoint 10: (817.09000000, 1791.10000000) -> (386.46151733, 868.41210938)\n",
            "Keypoint 11: (413.02000000, 1978.37000000) -> (195.34729004, 959.20971680)\n",
            "Keypoint 12: (806.28000000, 1957.20000000) -> (381.34863281, 948.94543457)\n",
            "Keypoint 13: (551.15000000, 1442.49000000) -> (260.67907715, 699.38909912)\n",
            "Keypoint 14: (662.99000000, 1445.04000000) -> (313.57632446, 700.62548828)\n"
          ]
        },
        {
          "output_type": "execute_result",
          "data": {
            "text/plain": [
              "<matplotlib.image.AxesImage at 0x793ce63fe9e0>"
            ]
          },
          "metadata": {},
          "execution_count": 10
        },
        {
          "output_type": "display_data",
          "data": {
            "text/plain": [
              "<Figure size 640x480 with 1 Axes>"
            ],
            "image/png": "[encoded data removed]"
          },
          "metadata": {}
        }
      ]
    },
    {
      "cell_type": "code",
      "source": [
        "class DataGenerator(keras.utils.all_utils.Sequence):\n",
        "\n",
        "  def __init__(self, file_name, rows_per_batch=50, shuffle=False):\n",
        "      self.rows_per_batch = rows_per_batch\n",
        "      self.shuffle = shuffle\n",
        "      self.file_name = file_name\n",
        "      self.on_epoch_end()\n",
        "      reader = csv.reader(open(self.file_name, 'r'))\n",
        "      self.lines = list(reader)\n",
        "\n",
        "  def __len__(self):\n",
        "      return len(self.lines) // self.rows_per_batch\n",
        "\n",
        "  def __getitem__(self, index):\n",
        "      skip_rows = index * self.rows_per_batch\n",
        "      nrows = (index + 1) * self.rows_per_batch\n",
        "      X, y = self.__data_generation(self.folder_name, self.file_name, skip_rows, nrows)\n",
        "\n",
        "      return X, y\n",
        "\n",
        "  def on_epoch_end(self):\n",
        "      if self.shuffle == True:\n",
        "          np.random.shuffle(self.indexes)\n",
        "\n",
        "  def __data_generation(self, file_name, skip_rows, nrows, config_file):\n",
        "\n",
        "      df = pd.read_csv(file_name, header=None, skiprows=skip_rows, nrows=nrows)\n",
        "\n",
        "      < do some data processing here >\n",
        "\n",
        "      return X, y\n",
        "\n",
        "# main program\n",
        "file_name = <some filename>\n",
        "rows_per_batch = <some number>\n",
        "\n",
        "a = DataGenerator(file_name, rows_per_batch, shuffle=False)\n",
        "b = DataGenerator(file_name, rows_per_batch, shuffle=False)\n",
        "\n",
        "# Train model on dataset\n",
        "model.fit_generator(generator=a,\n",
        "                  validation_data=b,\n",
        "                  use_multiprocessing=False,\n",
        "                  shuffle=False,\n",
        "                  epochs=10,\n",
        "                  workers=6)"
      ],
      "metadata": {
        "id": "XokGAyMKSSAf"
      },
      "execution_count": null,
      "outputs": []
    },
    {
      "cell_type": "code",
      "execution_count": null,
      "outputs": [],
      "source": [
        "# Building a CNN model using Sequential API\n",
        "model = Sequential([\n",
        "    Conv2D(1, (5, 5), padding='same', use_bias=False, input_shape=(2112, 1184, 3)),\n",
        "    LeakyReLU(alpha=0.1),\n",
        "    BatchNormalization(),\n",
        "    MaxPool2D(pool_size=(2, 2)),\n",
        "\n",
        "    # Conv2D(32, (4, 4), padding='same', use_bias=False),\n",
        "    # LeakyReLU(alpha=0.1),\n",
        "    # BatchNormalization(),\n",
        "    # MaxPool2D(pool_size=(2, 2)),\n",
        "\n",
        "    # Conv2D(64, (3, 3), padding='same', use_bias=False),\n",
        "    # LeakyReLU(alpha=0.1),\n",
        "    # BatchNormalization(),\n",
        "    # MaxPool2D(pool_size=(2, 2)),\n",
        "\n",
        "    # Conv2D(128, (2, 2), padding='same', use_bias=False),\n",
        "    # LeakyReLU(alpha=0.1),\n",
        "    # BatchNormalization(),\n",
        "    # MaxPool2D(pool_size=(2, 2)),\n",
        "\n",
        "    Flatten(),\n",
        "    Dense(1024, activation='relu'),\n",
        "    Dense(512, activation='relu'),\n",
        "    Dropout(0.5),\n",
        "    Dense(32)\n",
        "])"
      ],
      "metadata": {
        "pycharm": {
          "name": "#%%\n"
        },
        "id": "1ycR5JZa4BOu"
      }
    },
    {
      "cell_type": "code",
      "execution_count": null,
      "outputs": [],
      "source": [
        "model.summary()"
      ],
      "metadata": {
        "pycharm": {
          "name": "#%%\n"
        },
        "id": "iqX89J3s4BOv"
      }
    },
    {
      "cell_type": "code",
      "execution_count": null,
      "outputs": [],
      "source": [
        "tf.keras.utils.plot_model(model, show_shapes=True)"
      ],
      "metadata": {
        "pycharm": {
          "name": "#%%\n"
        },
        "id": "qkVLOY7s4BOv"
      }
    },
    {
      "cell_type": "code",
      "execution_count": null,
      "outputs": [],
      "source": [
        "# initializing few hyper parameters\n",
        "epochs = 1\n",
        "batch_size = 128\n",
        "validation_split = 0.2"
      ],
      "metadata": {
        "pycharm": {
          "name": "#%%\n"
        },
        "id": "vcNLoOsA4BOv"
      }
    },
    {
      "cell_type": "code",
      "execution_count": null,
      "outputs": [],
      "source": [
        "\n",
        "y_train=df.loc[:, df.columns != 'image']"
      ],
      "metadata": {
        "pycharm": {
          "name": "#%%\n"
        },
        "id": "X85s3uXs4BOv"
      }
    },
    {
      "cell_type": "code",
      "execution_count": null,
      "outputs": [],
      "source": [
        "x_train=np.stack(df['image'])"
      ],
      "metadata": {
        "pycharm": {
          "name": "#%%\n"
        },
        "id": "NCWZCPxQ4BOv"
      }
    },
    {
      "cell_type": "code",
      "execution_count": null,
      "metadata": {
        "pycharm": {
          "name": "#%%\n"
        },
        "id": "nlSZQZHY4BOv"
      },
      "outputs": [],
      "source": [
        "x_train=np.stack(df['image'])"
      ]
    },
    {
      "cell_type": "code",
      "execution_count": null,
      "metadata": {
        "jupyter": {
          "outputs_hidden": false
        },
        "pycharm": {
          "name": "#%%\n"
        },
        "id": "_3TgP0RW4BOw"
      },
      "outputs": [],
      "source": [
        "model.compile(optimizer='adam',loss='mean_squared_error',metrics=['mae'])\n",
        "history=model.fit(x_train, y_train, epochs=epochs, batch_size=batch_size, validation_split = validation_split)"
      ]
    },
    {
      "cell_type": "code",
      "execution_count": null,
      "metadata": {
        "pycharm": {
          "name": "#%%\n"
        },
        "id": "CkOZjbsu4BOw"
      },
      "outputs": [],
      "source": []
    }
  ],
  "metadata": {
    "kernelspec": {
      "display_name": "Python 3",
      "name": "python3"
    },
    "language_info": {
      "codemirror_mode": {
        "name": "ipython",
        "version": 3
      },
      "file_extension": ".py",
      "mimetype": "text/x-python",
      "name": "python",
      "nbconvert_exporter": "python",
      "pygments_lexer": "ipython3",
      "version": "3.8.10"
    },
    "colab": {
      "provenance": [],
      "include_colab_link": true
    }
  },
  "nbformat": 4,
  "nbformat_minor": 0
}