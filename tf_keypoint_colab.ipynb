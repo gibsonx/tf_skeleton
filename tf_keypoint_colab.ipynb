{
  "cells": [
    {
      "cell_type": "markdown",
      "metadata": {
        "id": "view-in-github",
        "colab_type": "text"
      },
      "source": [
        "<a href=\"https://colab.research.google.com/github/gibsonx/tf_skeleton/blob/master/tf_keypoint_colab.ipynb\" target=\"_parent\"><img src=\"https://colab.research.google.com/assets/colab-badge.svg\" alt=\"Open In Colab\"/></a>"
      ]
    },
    {
      "cell_type": "code",
      "source": [
        "from google.colab import drive\n",
        "drive.mount('/content/drive')"
      ],
      "metadata": {
        "id": "bVmURZAl5rq0",
        "pycharm": {
          "name": "#%%\n"
        },
        "outputId": "8fa6b878-07b5-4b77-a4c7-2c0a3ef5ddae",
        "colab": {
          "base_uri": "https://localhost:8080/"
        }
      },
      "execution_count": 251,
      "outputs": [
        {
          "output_type": "stream",
          "name": "stdout",
          "text": [
            "Drive already mounted at /content/drive; to attempt to forcibly remount, call drive.mount(\"/content/drive\", force_remount=True).\n"
          ]
        }
      ]
    },
    {
      "cell_type": "code",
      "source": [
        "!git clone https://github.com/gibsonx/tf_skeleton.git"
      ],
      "metadata": {
        "id": "ilMaJumK4NYw",
        "outputId": "beae91cb-3ccf-4f97-8407-43a21a73424d",
        "colab": {
          "base_uri": "https://localhost:8080/"
        },
        "pycharm": {
          "name": "#%%\n"
        }
      },
      "execution_count": null,
      "outputs": [
        {
          "output_type": "stream",
          "name": "stdout",
          "text": [
            "fatal: destination path 'tf_skeleton' already exists and is not an empty directory.\n"
          ]
        }
      ]
    },
    {
      "cell_type": "code",
      "source": [
        "!pip install -r /content/tf_skeleton/requirements.txt > /dev/null"
      ],
      "metadata": {
        "id": "OXB6FMV55aDu",
        "pycharm": {
          "name": "#%%\n"
        }
      },
      "execution_count": null,
      "outputs": []
    },
    {
      "cell_type": "code",
      "execution_count": 1,
      "metadata": {
        "jupyter": {
          "outputs_hidden": false
        },
        "pycharm": {
          "is_executing": true,
          "name": "#%%\n"
        },
        "id": "Ml1hZoUn4BOo"
      },
      "outputs": [],
      "source": [
        "from pycocotools.coco import COCO\n",
        "import numpy as np\n",
        "import os.path\n",
        "from typing import Any, Callable, List, Optional, Tuple\n",
        "from PIL import Image\n",
        "import matplotlib\n",
        "import matplotlib.pyplot as plt\n",
        "import matplotlib.image as mpimg\n",
        "import os, json, cv2, numpy as np\n",
        "import matplotlib.pyplot as plt\n",
        "import pandas as pd\n",
        "import numpy as np\n",
        "import matplotlib.pyplot as plt\n",
        "\n",
        "import tensorflow as tf\n",
        "\n",
        "from keras.models import Sequential\n",
        "\n",
        "from keras.layers import (\n",
        "    Flatten,\n",
        "    Dense,\n",
        "    Dropout,\n",
        "    Conv2D,\n",
        "    LeakyReLU,\n",
        "    BatchNormalization,\n",
        "    MaxPool2D,\n",
        ")\n",
        "from imgaug import augmenters as iaa\n",
        "import imgaug as ia\n",
        "import imageio\n",
        "\n",
        "from imgaug.augmentables.kps import Keypoint, KeypointsOnImage\n",
        "import math"
      ]
    },
    {
      "cell_type": "code",
      "execution_count": 2,
      "metadata": {
        "jupyter": {
          "outputs_hidden": false
        },
        "pycharm": {
          "is_executing": true,
          "name": "#%%\n"
        },
        "id": "bV-AwtlZ4BOq"
      },
      "outputs": [],
      "source": [
        "train_img_dir=\"/content/drive/MyDrive/Dataset/aspine20230930/image_train\"\n",
        "val_img_dir=\"/content/drive/MyDrive/Dataset/aspine20230930/image_val\"\n",
        "val_annotations_file=\"/content/drive/MyDrive/Dataset/aspine20230930/annotations/person_keypoints_Validation.json\"\n",
        "train_annotations_file=\"/content/drive/MyDrive/Dataset/aspine20230930/annotations/person_keypoints_Train.json\""
      ]
    },
    {
      "cell_type": "code",
      "source": [
        "class DataframeMaker():\n",
        "\n",
        "    def __init__(self,img_path,annotations_file):\n",
        "        self.img_path = img_path\n",
        "        self.coco = COCO(annotations_file)\n",
        "        self.imgIds = self.coco.getImgIds()\n",
        "        self.dataframe = None\n",
        "        self.__build__()\n",
        "\n",
        "    def __build__(self):\n",
        "        \"\"\"\n",
        "        read annotation and build dataframe\n",
        "        :return:\n",
        "        \"\"\"\n",
        "\n",
        "        kps_metrix = []\n",
        "        image_list = []\n",
        "\n",
        "        for id in self.imgIds:\n",
        "\n",
        "          # load a image\n",
        "          img = self.coco.loadImgs(id)[0]\n",
        "          imgPath = img['file_name']\n",
        "\n",
        "\n",
        "          ann=self.coco.loadAnns(self.coco.getAnnIds(imgIds=img['id']))\n",
        "\n",
        "          keypoints_original = [[list(a) for a in zip(*[iter(ann[0]['keypoints'])]*3)]]\n",
        "\n",
        "          kps_row = []\n",
        "          for kp in keypoints_original:\n",
        "              for el in kp:\n",
        "                  kps_row.extend(el[0:2])\n",
        "          kps_row.append(imgPath)\n",
        "\n",
        "          kps_metrix.append(kps_row)\n",
        "\n",
        "        df = pd.DataFrame(kps_metrix)\n",
        "\n",
        "        self.dataframe = df\n",
        "\n",
        "    def _transformed_dataset(self, img_height, img_width):\n",
        "      \"\"\"\n",
        "      :param img_height:\n",
        "      :param img_width:\n",
        "      :return:\n",
        "      \"\"\"\n",
        "\n",
        "      ts_kps_metrix = []\n",
        "      ts_image_list = []\n",
        "\n",
        "      for index, row in self.dataframe.iterrows():\n",
        "\n",
        "\n",
        "        annotations = row[:32]\n",
        "        converted_keypoints = [list(a) for a in zip(*[iter(annotations)]*2)]\n",
        "\n",
        "        image = row[-1:].item()\n",
        "\n",
        "        fullImgPath = os.path.join(self.img_path,image)\n",
        "\n",
        "        open_cv_image = np.array(Image.open(fullImgPath))\n",
        "\n",
        "        kps = [Keypoint(x=coodination[0], y=coodination[1]) for coodination in converted_keypoints]\n",
        "        kpsoi = KeypointsOnImage(kps, shape=open_cv_image.shape)\n",
        "\n",
        "        ia.seed(1)\n",
        "\n",
        "        seq = iaa.Sequential([\n",
        "            iaa.Resize({\"height\": img_height, \"width\": img_width})\n",
        "        ])\n",
        "\n",
        "        image_aug, kpsoi_aug = seq(image=open_cv_image, keypoints=kpsoi)\n",
        "\n",
        "        ts_kps_row = []\n",
        "\n",
        "        for i in range(len(kpsoi_aug.keypoints)):\n",
        "            after = kpsoi_aug.keypoints[i]\n",
        "            ts_kps_row.extend([after.x,after.y])\n",
        "\n",
        "        ts_kps_metrix.append(ts_kps_row)\n",
        "        ts_image_list.append(image_aug)\n",
        "\n",
        "\n",
        "      df = pd.DataFrame(ts_kps_metrix)\n",
        "\n",
        "      df['image'] = ts_image_list\n",
        "\n",
        "      return df"
      ],
      "metadata": {
        "id": "wSBjc8Ob875C"
      },
      "execution_count": 65,
      "outputs": []
    },
    {
      "cell_type": "code",
      "source": [
        "val_df = DataframeMaker(val_img_dir,val_annotations_file)\n",
        "train_df = DataframeMaker(train_img_dir,train_annotations_file)"
      ],
      "metadata": {
        "colab": {
          "base_uri": "https://localhost:8080/"
        },
        "id": "VAdnr3br9A-0",
        "outputId": "face70b0-7a9c-4b7e-b298-1e0b37ac97ff"
      },
      "execution_count": 66,
      "outputs": [
        {
          "output_type": "stream",
          "name": "stdout",
          "text": [
            "loading annotations into memory...\n",
            "Done (t=0.00s)\n",
            "creating index...\n",
            "index created!\n",
            "loading annotations into memory...\n",
            "Done (t=0.01s)\n",
            "creating index...\n",
            "index created!\n"
          ]
        }
      ]
    },
    {
      "cell_type": "code",
      "source": [
        "val_trdf = val_df._transformed_dataset(1000,560)"
      ],
      "metadata": {
        "id": "GhXuVvkn9SP3"
      },
      "execution_count": 67,
      "outputs": []
    },
    {
      "cell_type": "code",
      "source": [
        "def show_image(kps, image, image_path):\n",
        "\n",
        "    fullImgPath = os.path.join(image_path,image)\n",
        "    open_cv_image = np.array(Image.open(fullImgPath))\n",
        "    converted_keypoints = [list(a) for a in zip(*[iter(kps)]*2)]\n",
        "\n",
        "    kps = [Keypoint(x=coodination[0], y=coodination[1]) for coodination in converted_keypoints]\n",
        "\n",
        "    kpsoi = KeypointsOnImage(kps, shape=open_cv_image.shape)\n",
        "\n",
        "    image_with_kps = kpsoi.draw_on_image(open_cv_image, size=15)\n",
        "\n",
        "    plt.imshow(image_with_kps)\n",
        "\n",
        "def show_tran_image(kps, image):\n",
        "\n",
        "    open_cv_image = np.array(image)\n",
        "    converted_keypoints = [list(a) for a in zip(*[iter(kps)]*2)]\n",
        "\n",
        "    kps = [Keypoint(x=coodination[0], y=coodination[1]) for coodination in converted_keypoints]\n",
        "\n",
        "    kpsoi = KeypointsOnImage(kps, shape=open_cv_image.shape)\n",
        "\n",
        "    image_with_kps = kpsoi.draw_on_image(open_cv_image, size=15)\n",
        "\n",
        "    plt.imshow(image_with_kps)"
      ],
      "metadata": {
        "id": "ZQHe4NHD9vvT"
      },
      "execution_count": 68,
      "outputs": []
    },
    {
      "cell_type": "markdown",
      "source": [
        "Visualize a simple image"
      ],
      "metadata": {
        "id": "WlVCyOIzcdDb"
      }
    },
    {
      "cell_type": "code",
      "source": [
        "rand_number = np.random.randint(0,len(val_df.dataframe))\n",
        "print(rand_number)\n",
        "n = rand_number"
      ],
      "metadata": {
        "colab": {
          "base_uri": "https://localhost:8080/"
        },
        "id": "GaIn7RX29mne",
        "outputId": "f0fd7bc1-3ce8-49c1-9b76-22e4c7ee72ae"
      },
      "execution_count": 69,
      "outputs": [
        {
          "output_type": "stream",
          "name": "stdout",
          "text": [
            "21\n"
          ]
        }
      ]
    },
    {
      "cell_type": "code",
      "source": [
        "X, Y = val_df.dataframe.loc[n-1][0:32], val_df.dataframe.loc[n-1][-1:].item()\n",
        "show_image(X,Y,val_img_dir)"
      ],
      "metadata": {
        "colab": {
          "base_uri": "https://localhost:8080/",
          "height": 435
        },
        "id": "f_Rrb4NImMEB",
        "outputId": "96aa23a1-1673-4d06-ad4a-666314b6db4b"
      },
      "execution_count": 70,
      "outputs": [
        {
          "output_type": "display_data",
          "data": {
            "text/plain": [
              "<Figure size 640x480 with 1 Axes>"
            ],
            "image/png": "[encoded data removed]"
          },
          "metadata": {}
        }
      ]
    },
    {
      "cell_type": "code",
      "source": [
        "X, Y = val_trdf.iloc[n-1,:32], val_trdf.iloc[n-1,-1:]\n",
        "print(np.stack(val_trdf.loc[0:3,'image']).shape)\n",
        "\n",
        "val_trdf.loc[0:3,:31]"
      ],
      "metadata": {
        "colab": {
          "base_uri": "https://localhost:8080/",
          "height": 241
        },
        "id": "GSYpGNGyl6xb",
        "outputId": "786c6183-4168-4d46-c894-25050f16a5ee"
      },
      "execution_count": 124,
      "outputs": [
        {
          "output_type": "stream",
          "name": "stdout",
          "text": [
            "(4, 1000, 560, 3)\n"
          ]
        },
        {
          "output_type": "execute_result",
          "data": {
            "text/plain": [
              "           0           1           2           3           4           5   \\\n",
              "0  171.112167  714.119324  404.618896  716.396790  108.443245  769.696960   \n",
              "1  167.205399  693.200745  421.688538  698.518005  113.031075  788.674316   \n",
              "2  147.383102  716.718750  392.922302  710.994324   97.919601  788.707397   \n",
              "3  171.254059  717.566284  376.354034  723.996155  106.418915  781.103210   \n",
              "\n",
              "           6           7           8           9   ...          22  \\\n",
              "0  439.756104  762.182800  228.616211  793.058716  ...  218.991226   \n",
              "1  473.431732  799.838989  221.876343  758.906311  ...  213.575684   \n",
              "2  445.015564  788.783142  220.438522  780.525574  ...  203.397293   \n",
              "3  426.763519  770.634460  220.012848  793.072876  ...  202.971634   \n",
              "\n",
              "           23          24          25          26          27          28  \\\n",
              "0  972.476379  391.739868  976.567261  264.127014  716.368347  293.125000   \n",
              "1  950.781311  353.135834  953.319153  262.301361  697.026489  301.255402   \n",
              "2  978.295410  344.797302  974.876892  243.514847  717.405334  284.294586   \n",
              "3  975.667664  341.623627  983.498962  250.278351  724.881592  297.249329   \n",
              "\n",
              "           29          30          31  \n",
              "0  716.742432  278.784454  717.012268  \n",
              "1  694.995239  284.384491  699.086182  \n",
              "2  717.059692  266.619598  722.916687  \n",
              "3  728.134460  273.983795  728.385376  \n",
              "\n",
              "[4 rows x 32 columns]"
            ],
            "text/html": [
              "\n",
              "  <div id=\"df-a08d3d2b-7bf0-46e1-90b8-31bf46c472b5\" class=\"colab-df-container\">\n",
              "    <div>\n",
              "<style scoped>\n",
              "    .dataframe tbody tr th:only-of-type {\n",
              "        vertical-align: middle;\n",
              "    }\n",
              "\n",
              "    .dataframe tbody tr th {\n",
              "        vertical-align: top;\n",
              "    }\n",
              "\n",
              "    .dataframe thead th {\n",
              "        text-align: right;\n",
              "    }\n",
              "</style>\n",
              "<table border=\"1\" class=\"dataframe\">\n",
              "  <thead>\n",
              "    <tr style=\"text-align: right;\">\n",
              "      <th></th>\n",
              "      <th>0</th>\n",
              "      <th>1</th>\n",
              "      <th>2</th>\n",
              "      <th>3</th>\n",
              "      <th>4</th>\n",
              "      <th>5</th>\n",
              "      <th>6</th>\n",
              "      <th>7</th>\n",
              "      <th>8</th>\n",
              "      <th>9</th>\n",
              "      <th>...</th>\n",
              "      <th>22</th>\n",
              "      <th>23</th>\n",
              "      <th>24</th>\n",
              "      <th>25</th>\n",
              "      <th>26</th>\n",
              "      <th>27</th>\n",
              "      <th>28</th>\n",
              "      <th>29</th>\n",
              "      <th>30</th>\n",
              "      <th>31</th>\n",
              "    </tr>\n",
              "  </thead>\n",
              "  <tbody>\n",
              "    <tr>\n",
              "      <th>0</th>\n",
              "      <td>171.112167</td>\n",
              "      <td>714.119324</td>\n",
              "      <td>404.618896</td>\n",
              "      <td>716.396790</td>\n",
              "      <td>108.443245</td>\n",
              "      <td>769.696960</td>\n",
              "      <td>439.756104</td>\n",
              "      <td>762.182800</td>\n",
              "      <td>228.616211</td>\n",
              "      <td>793.058716</td>\n",
              "      <td>...</td>\n",
              "      <td>218.991226</td>\n",
              "      <td>972.476379</td>\n",
              "      <td>391.739868</td>\n",
              "      <td>976.567261</td>\n",
              "      <td>264.127014</td>\n",
              "      <td>716.368347</td>\n",
              "      <td>293.125000</td>\n",
              "      <td>716.742432</td>\n",
              "      <td>278.784454</td>\n",
              "      <td>717.012268</td>\n",
              "    </tr>\n",
              "    <tr>\n",
              "      <th>1</th>\n",
              "      <td>167.205399</td>\n",
              "      <td>693.200745</td>\n",
              "      <td>421.688538</td>\n",
              "      <td>698.518005</td>\n",
              "      <td>113.031075</td>\n",
              "      <td>788.674316</td>\n",
              "      <td>473.431732</td>\n",
              "      <td>799.838989</td>\n",
              "      <td>221.876343</td>\n",
              "      <td>758.906311</td>\n",
              "      <td>...</td>\n",
              "      <td>213.575684</td>\n",
              "      <td>950.781311</td>\n",
              "      <td>353.135834</td>\n",
              "      <td>953.319153</td>\n",
              "      <td>262.301361</td>\n",
              "      <td>697.026489</td>\n",
              "      <td>301.255402</td>\n",
              "      <td>694.995239</td>\n",
              "      <td>284.384491</td>\n",
              "      <td>699.086182</td>\n",
              "    </tr>\n",
              "    <tr>\n",
              "      <th>2</th>\n",
              "      <td>147.383102</td>\n",
              "      <td>716.718750</td>\n",
              "      <td>392.922302</td>\n",
              "      <td>710.994324</td>\n",
              "      <td>97.919601</td>\n",
              "      <td>788.707397</td>\n",
              "      <td>445.015564</td>\n",
              "      <td>788.783142</td>\n",
              "      <td>220.438522</td>\n",
              "      <td>780.525574</td>\n",
              "      <td>...</td>\n",
              "      <td>203.397293</td>\n",
              "      <td>978.295410</td>\n",
              "      <td>344.797302</td>\n",
              "      <td>974.876892</td>\n",
              "      <td>243.514847</td>\n",
              "      <td>717.405334</td>\n",
              "      <td>284.294586</td>\n",
              "      <td>717.059692</td>\n",
              "      <td>266.619598</td>\n",
              "      <td>722.916687</td>\n",
              "    </tr>\n",
              "    <tr>\n",
              "      <th>3</th>\n",
              "      <td>171.254059</td>\n",
              "      <td>717.566284</td>\n",
              "      <td>376.354034</td>\n",
              "      <td>723.996155</td>\n",
              "      <td>106.418915</td>\n",
              "      <td>781.103210</td>\n",
              "      <td>426.763519</td>\n",
              "      <td>770.634460</td>\n",
              "      <td>220.012848</td>\n",
              "      <td>793.072876</td>\n",
              "      <td>...</td>\n",
              "      <td>202.971634</td>\n",
              "      <td>975.667664</td>\n",
              "      <td>341.623627</td>\n",
              "      <td>983.498962</td>\n",
              "      <td>250.278351</td>\n",
              "      <td>724.881592</td>\n",
              "      <td>297.249329</td>\n",
              "      <td>728.134460</td>\n",
              "      <td>273.983795</td>\n",
              "      <td>728.385376</td>\n",
              "    </tr>\n",
              "  </tbody>\n",
              "</table>\n",
              "<p>4 rows × 32 columns</p>\n",
              "</div>\n",
              "    <div class=\"colab-df-buttons\">\n",
              "\n",
              "  <div class=\"colab-df-container\">\n",
              "    <button class=\"colab-df-convert\" onclick=\"convertToInteractive('df-a08d3d2b-7bf0-46e1-90b8-31bf46c472b5')\"\n",
              "            title=\"Convert this dataframe to an interactive table.\"\n",
              "            style=\"display:none;\">\n",
              "\n",
              "  <svg xmlns=\"http://www.w3.org/2000/svg\" height=\"24px\" viewBox=\"0 -960 960 960\">\n",
              "    <path d=\"M120-120v-720h720v720H120Zm60-500h600v-160H180v160Zm220 220h160v-160H400v160Zm0 220h160v-160H400v160ZM180-400h160v-160H180v160Zm440 0h160v-160H620v160ZM180-180h160v-160H180v160Zm440 0h160v-160H620v160Z\"/>\n",
              "  </svg>\n",
              "    </button>\n",
              "\n",
              "  <style>\n",
              "    .colab-df-container {\n",
              "      display:flex;\n",
              "      gap: 12px;\n",
              "    }\n",
              "\n",
              "    .colab-df-convert {\n",
              "      background-color: #E8F0FE;\n",
              "      border: none;\n",
              "      border-radius: 50%;\n",
              "      cursor: pointer;\n",
              "      display: none;\n",
              "      fill: #1967D2;\n",
              "      height: 32px;\n",
              "      padding: 0 0 0 0;\n",
              "      width: 32px;\n",
              "    }\n",
              "\n",
              "    .colab-df-convert:hover {\n",
              "      background-color: #E2EBFA;\n",
              "      box-shadow: 0px 1px 2px rgba(60, 64, 67, 0.3), 0px 1px 3px 1px rgba(60, 64, 67, 0.15);\n",
              "      fill: #174EA6;\n",
              "    }\n",
              "\n",
              "    .colab-df-buttons div {\n",
              "      margin-bottom: 4px;\n",
              "    }\n",
              "\n",
              "    [theme=dark] .colab-df-convert {\n",
              "      background-color: #3B4455;\n",
              "      fill: #D2E3FC;\n",
              "    }\n",
              "\n",
              "    [theme=dark] .colab-df-convert:hover {\n",
              "      background-color: #434B5C;\n",
              "      box-shadow: 0px 1px 3px 1px rgba(0, 0, 0, 0.15);\n",
              "      filter: drop-shadow(0px 1px 2px rgba(0, 0, 0, 0.3));\n",
              "      fill: #FFFFFF;\n",
              "    }\n",
              "  </style>\n",
              "\n",
              "    <script>\n",
              "      const buttonEl =\n",
              "        document.querySelector('#df-a08d3d2b-7bf0-46e1-90b8-31bf46c472b5 button.colab-df-convert');\n",
              "      buttonEl.style.display =\n",
              "        google.colab.kernel.accessAllowed ? 'block' : 'none';\n",
              "\n",
              "      async function convertToInteractive(key) {\n",
              "        const element = document.querySelector('#df-a08d3d2b-7bf0-46e1-90b8-31bf46c472b5');\n",
              "        const dataTable =\n",
              "          await google.colab.kernel.invokeFunction('convertToInteractive',\n",
              "                                                    [key], {});\n",
              "        if (!dataTable) return;\n",
              "\n",
              "        const docLinkHtml = 'Like what you see? Visit the ' +\n",
              "          '<a target=\"_blank\" href=https://colab.research.google.com/notebooks/data_table.ipynb>data table notebook</a>'\n",
              "          + ' to learn more about interactive tables.';\n",
              "        element.innerHTML = '';\n",
              "        dataTable['output_type'] = 'display_data';\n",
              "        await google.colab.output.renderOutput(dataTable, element);\n",
              "        const docLink = document.createElement('div');\n",
              "        docLink.innerHTML = docLinkHtml;\n",
              "        element.appendChild(docLink);\n",
              "      }\n",
              "    </script>\n",
              "  </div>\n",
              "\n",
              "\n",
              "<div id=\"df-5f953ebd-252a-4a12-8ba9-0ed19d109d38\">\n",
              "  <button class=\"colab-df-quickchart\" onclick=\"quickchart('df-5f953ebd-252a-4a12-8ba9-0ed19d109d38')\"\n",
              "            title=\"Suggest charts.\"\n",
              "            style=\"display:none;\">\n",
              "\n",
              "<svg xmlns=\"http://www.w3.org/2000/svg\" height=\"24px\"viewBox=\"0 0 24 24\"\n",
              "     width=\"24px\">\n",
              "    <g>\n",
              "        <path d=\"M19 3H5c-1.1 0-2 .9-2 2v14c0 1.1.9 2 2 2h14c1.1 0 2-.9 2-2V5c0-1.1-.9-2-2-2zM9 17H7v-7h2v7zm4 0h-2V7h2v10zm4 0h-2v-4h2v4z\"/>\n",
              "    </g>\n",
              "</svg>\n",
              "  </button>\n",
              "\n",
              "<style>\n",
              "  .colab-df-quickchart {\n",
              "      --bg-color: #E8F0FE;\n",
              "      --fill-color: #1967D2;\n",
              "      --hover-bg-color: #E2EBFA;\n",
              "      --hover-fill-color: #174EA6;\n",
              "      --disabled-fill-color: #AAA;\n",
              "      --disabled-bg-color: #DDD;\n",
              "  }\n",
              "\n",
              "  [theme=dark] .colab-df-quickchart {\n",
              "      --bg-color: #3B4455;\n",
              "      --fill-color: #D2E3FC;\n",
              "      --hover-bg-color: #434B5C;\n",
              "      --hover-fill-color: #FFFFFF;\n",
              "      --disabled-bg-color: #3B4455;\n",
              "      --disabled-fill-color: #666;\n",
              "  }\n",
              "\n",
              "  .colab-df-quickchart {\n",
              "    background-color: var(--bg-color);\n",
              "    border: none;\n",
              "    border-radius: 50%;\n",
              "    cursor: pointer;\n",
              "    display: none;\n",
              "    fill: var(--fill-color);\n",
              "    height: 32px;\n",
              "    padding: 0;\n",
              "    width: 32px;\n",
              "  }\n",
              "\n",
              "  .colab-df-quickchart:hover {\n",
              "    background-color: var(--hover-bg-color);\n",
              "    box-shadow: 0 1px 2px rgba(60, 64, 67, 0.3), 0 1px 3px 1px rgba(60, 64, 67, 0.15);\n",
              "    fill: var(--button-hover-fill-color);\n",
              "  }\n",
              "\n",
              "  .colab-df-quickchart-complete:disabled,\n",
              "  .colab-df-quickchart-complete:disabled:hover {\n",
              "    background-color: var(--disabled-bg-color);\n",
              "    fill: var(--disabled-fill-color);\n",
              "    box-shadow: none;\n",
              "  }\n",
              "\n",
              "  .colab-df-spinner {\n",
              "    border: 2px solid var(--fill-color);\n",
              "    border-color: transparent;\n",
              "    border-bottom-color: var(--fill-color);\n",
              "    animation:\n",
              "      spin 1s steps(1) infinite;\n",
              "  }\n",
              "\n",
              "  @keyframes spin {\n",
              "    0% {\n",
              "      border-color: transparent;\n",
              "      border-bottom-color: var(--fill-color);\n",
              "      border-left-color: var(--fill-color);\n",
              "    }\n",
              "    20% {\n",
              "      border-color: transparent;\n",
              "      border-left-color: var(--fill-color);\n",
              "      border-top-color: var(--fill-color);\n",
              "    }\n",
              "    30% {\n",
              "      border-color: transparent;\n",
              "      border-left-color: var(--fill-color);\n",
              "      border-top-color: var(--fill-color);\n",
              "      border-right-color: var(--fill-color);\n",
              "    }\n",
              "    40% {\n",
              "      border-color: transparent;\n",
              "      border-right-color: var(--fill-color);\n",
              "      border-top-color: var(--fill-color);\n",
              "    }\n",
              "    60% {\n",
              "      border-color: transparent;\n",
              "      border-right-color: var(--fill-color);\n",
              "    }\n",
              "    80% {\n",
              "      border-color: transparent;\n",
              "      border-right-color: var(--fill-color);\n",
              "      border-bottom-color: var(--fill-color);\n",
              "    }\n",
              "    90% {\n",
              "      border-color: transparent;\n",
              "      border-bottom-color: var(--fill-color);\n",
              "    }\n",
              "  }\n",
              "</style>\n",
              "\n",
              "  <script>\n",
              "    async function quickchart(key) {\n",
              "      const quickchartButtonEl =\n",
              "        document.querySelector('#' + key + ' button');\n",
              "      quickchartButtonEl.disabled = true;  // To prevent multiple clicks.\n",
              "      quickchartButtonEl.classList.add('colab-df-spinner');\n",
              "      try {\n",
              "        const charts = await google.colab.kernel.invokeFunction(\n",
              "            'suggestCharts', [key], {});\n",
              "      } catch (error) {\n",
              "        console.error('Error during call to suggestCharts:', error);\n",
              "      }\n",
              "      quickchartButtonEl.classList.remove('colab-df-spinner');\n",
              "      quickchartButtonEl.classList.add('colab-df-quickchart-complete');\n",
              "    }\n",
              "    (() => {\n",
              "      let quickchartButtonEl =\n",
              "        document.querySelector('#df-5f953ebd-252a-4a12-8ba9-0ed19d109d38 button');\n",
              "      quickchartButtonEl.style.display =\n",
              "        google.colab.kernel.accessAllowed ? 'block' : 'none';\n",
              "    })();\n",
              "  </script>\n",
              "</div>\n",
              "    </div>\n",
              "  </div>\n"
            ]
          },
          "metadata": {},
          "execution_count": 124
        }
      ]
    },
    {
      "cell_type": "code",
      "source": [
        "coco = COCO(val_annotations_file)\n",
        "img = coco.loadImgs(rand_number)\n",
        "print(img)\n",
        "print(\"df:\",val_df.dataframe.loc[n-1][-1:].item())\n",
        "ann = coco.loadAnns(coco.getAnnIds(imgIds=img[0]['id']))[0]['keypoints']\n",
        "print(ann)\n",
        "print(\"df ann:\",list(val_df.dataframe.loc[n-1][0:32]))"
      ],
      "metadata": {
        "colab": {
          "base_uri": "https://localhost:8080/"
        },
        "id": "WzgxKdiKLaKo",
        "outputId": "f337a027-dbdd-47f1-9fae-74beeb010e54"
      },
      "execution_count": 10,
      "outputs": [
        {
          "output_type": "stream",
          "name": "stdout",
          "text": [
            "loading annotations into memory...\n",
            "Done (t=0.01s)\n",
            "creating index...\n",
            "index created!\n",
            "[{'id': 17, 'width': 1184, 'height': 2112, 'file_name': 'img-00086-00001.jpg', 'license': 0, 'flickr_url': '', 'coco_url': '', 'date_captured': 0}]\n",
            "df: img-00086-00001.jpg\n",
            "[407.54, 1498.6, 2, 791.33, 1480.75, 2, 273.52, 1637.14, 2, 919.68, 1613.97, 2, 477.89, 1618.62, 2, 705.44, 1603.18, 2, 483.13, 1549.41, 2, 728.34, 1548.69, 2, 590.7, 1593.42, 2, 398.52, 1785.59, 2, 796.49, 1771.78, 2, 445.64, 1938.81, 2, 751.3, 1899.29, 2, 544.86, 1487.91, 2, 615.1, 1483.91, 2, 582.41, 1492.25, 2]\n",
            "df ann: [407.54, 1498.6, 791.33, 1480.75, 273.52, 1637.14, 919.68, 1613.97, 477.89, 1618.62, 705.44, 1603.18, 483.13, 1549.41, 728.34, 1548.69, 590.7, 1593.42, 398.52, 1785.59, 796.49, 1771.78, 445.64, 1938.81, 751.3, 1899.29, 544.86, 1487.91, 615.1, 1483.91, 582.41, 1492.25]\n"
          ]
        }
      ]
    },
    {
      "cell_type": "code",
      "execution_count": 125,
      "metadata": {
        "pycharm": {
          "name": "#%%\n"
        },
        "id": "CkOZjbsu4BOw"
      },
      "outputs": [],
      "source": [
        "class DataGenerator(tf.keras.utils.Sequence):\n",
        "\n",
        "    def __init__(self, img_path, dataframe, batch_size, img_height, img_width):\n",
        "        self.img_path = img_path\n",
        "        self.df = dataframe\n",
        "        self.batch_size = batch_size\n",
        "        self.img_height = img_height\n",
        "        self.img_width = img_width\n",
        "\n",
        "    def __len__(self):\n",
        "        return math.ceil(len(self.df) / self.batch_size)\n",
        "\n",
        "    def __getitem__(self, idx):\n",
        "        low = idx * self.batch_size\n",
        "        # Cap upper bound at array length; the last batch may be smaller\n",
        "        # if the total number of items is not a multiple of batch size.\n",
        "        high = min(low + self.batch_size, len(self.df))\n",
        "        image = self._transformed_dataset.loc[low:high,'image']\n",
        "        annotations = self._transformed_dataset.loc[low:high,:31]\n",
        "        print(annotations.shape)\n",
        "        # batch_x = image.iloc[low:high]\n",
        "        # batch_y = annotations.iloc[low:high]\n",
        "\n",
        "        return np.stack(image), annotations\n",
        "\n",
        "    @property\n",
        "    def _transformed_dataset(self):\n",
        "      \"\"\"\n",
        "      :param height:\n",
        "      :param width:\n",
        "      :return:\n",
        "      \"\"\"\n",
        "\n",
        "      ts_kps_metrix = []\n",
        "      ts_image_list = []\n",
        "\n",
        "      for index, row in self.df.iterrows():\n",
        "\n",
        "        annotations = row[0:32]\n",
        "        converted_keypoints = [list(a) for a in zip(*[iter(annotations)]*2)]\n",
        "\n",
        "        image = row[-1:].item()\n",
        "\n",
        "        fullImgPath = os.path.join(self.img_path,image)\n",
        "\n",
        "        open_cv_image = np.array(Image.open(fullImgPath))\n",
        "\n",
        "        kps = [Keypoint(x=coodination[0], y=coodination[1]) for coodination in converted_keypoints]\n",
        "        kpsoi = KeypointsOnImage(kps, shape=open_cv_image.shape)\n",
        "\n",
        "        ia.seed(1)\n",
        "\n",
        "        seq = iaa.Sequential([\n",
        "            iaa.Resize({\"height\": self.img_height, \"width\": self.img_width})\n",
        "        ])\n",
        "\n",
        "        image_aug, kpsoi_aug = seq(image=open_cv_image, keypoints=kpsoi)\n",
        "\n",
        "        ts_kps_row = []\n",
        "\n",
        "        for i in range(len(kpsoi_aug.keypoints)):\n",
        "            after = kpsoi_aug.keypoints[i]\n",
        "            ts_kps_row.extend([after.x,after.y])\n",
        "\n",
        "        ts_kps_metrix.append(ts_kps_row)\n",
        "        ts_image_list.append(image_aug)\n",
        "\n",
        "      df = pd.DataFrame(ts_kps_metrix)\n",
        "      image_array_list = [img for img in ts_image_list]\n",
        "      df['image'] = image_array_list\n",
        "\n",
        "      return df"
      ]
    },
    {
      "cell_type": "code",
      "source": [
        "height=1000\n",
        "width=560\n",
        "epoch_num = 1\n",
        "\n",
        "training_generator = DataGenerator(train_img_dir,train_df.dataframe,3,height,width)\n",
        "test_generator = DataGenerator(val_img_dir,val_df.dataframe,3,height,width)"
      ],
      "metadata": {
        "id": "z4xjv1pDozVk"
      },
      "execution_count": 126,
      "outputs": []
    },
    {
      "cell_type": "code",
      "source": [
        "model = Sequential([\n",
        "    Conv2D(1, (5, 5), padding='same', use_bias=False, input_shape=(1000, 560, 3)),\n",
        "    LeakyReLU(alpha=0.1),\n",
        "    BatchNormalization(),\n",
        "    MaxPool2D(pool_size=(2, 2)),\n",
        "\n",
        "    Flatten(),\n",
        "    Dense(512, activation='relu'),\n",
        "    Dense(256, activation='relu'),\n",
        "    Dropout(0.5),\n",
        "    Dense(32)\n",
        "])"
      ],
      "metadata": {
        "id": "3DZpa19ipRkZ"
      },
      "execution_count": 102,
      "outputs": []
    },
    {
      "cell_type": "code",
      "source": [
        "model.summary()"
      ],
      "metadata": {
        "id": "BaDXvvpqpatC"
      },
      "execution_count": null,
      "outputs": []
    },
    {
      "cell_type": "code",
      "source": [
        "# tf.keras.utils.plot_model(model, show_shapes=True)"
      ],
      "metadata": {
        "id": "8fSo0P7ppbHI"
      },
      "execution_count": null,
      "outputs": []
    },
    {
      "cell_type": "code",
      "source": [
        "model.compile(optimizer='adam',loss='mean_squared_error',metrics=['mae'])"
      ],
      "metadata": {
        "id": "8f8xHPW9pcqH"
      },
      "execution_count": 104,
      "outputs": []
    },
    {
      "cell_type": "code",
      "source": [
        "model.fit_generator(generator=training_generator,\n",
        "                    validation_data=test_generator,\n",
        "                    epochs=epoch_num)"
      ],
      "metadata": {
        "colab": {
          "base_uri": "https://localhost:8080/"
        },
        "id": "JId2pxOfphb7",
        "outputId": "97fe5ca8-08cd-4079-d54e-f929b0601026"
      },
      "execution_count": null,
      "outputs": [
        {
          "output_type": "stream",
          "name": "stderr",
          "text": [
            "<ipython-input-128-1a24be424bb0>:1: UserWarning: `Model.fit_generator` is deprecated and will be removed in a future version. Please use `Model.fit`, which supports generators.\n",
            "  model.fit_generator(generator=training_generator,\n"
          ]
        },
        {
          "output_type": "stream",
          "name": "stdout",
          "text": [
            "(4, 32)\n",
            "(4, 32)\n"
          ]
        }
      ]
    }
  ],
  "metadata": {
    "kernelspec": {
      "display_name": "Python 3",
      "name": "python3"
    },
    "language_info": {
      "codemirror_mode": {
        "name": "ipython",
        "version": 3
      },
      "file_extension": ".py",
      "mimetype": "text/x-python",
      "name": "python",
      "nbconvert_exporter": "python",
      "pygments_lexer": "ipython3",
      "version": "3.8.10"
    },
    "colab": {
      "provenance": [],
      "include_colab_link": true
    }
  },
  "nbformat": 4,
  "nbformat_minor": 0
}